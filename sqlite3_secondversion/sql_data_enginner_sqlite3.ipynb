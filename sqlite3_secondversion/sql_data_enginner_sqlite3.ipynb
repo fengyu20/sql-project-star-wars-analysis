{
 "cells": [
  {
   "cell_type": "markdown",
   "metadata": {},
   "source": [
    "## 0. Explanation\n",
    "\n",
    "[Initially](https://github.com/fengyu20/sql-project-star-wars-analysis/tree/master/sqlite3_firstversion), I completed the project without addressing table connections.\n",
    "\n",
    "Upon reviewing the data and examining [the project](https://github.com/san089/Udacity-Data-Engineering-Projects/tree/master/Data_Api_to_Postgres) from the Udacity Data Engineering Program—which involves building a simple ETL pipeline to fetch data and store it in a PostgreSQL database—I realized a better structure could enhance my code.\n",
    "\n",
    "Therefore, by following the pipeline structure and addressing table connections, I developed a second version using sqlite3. This project could be also found on the [Github](https://github.com/fengyu20/sql-project-star-wars-analysis/tree/master/sqlite3_secondversion).\n",
    "\n",
    "Additionally, I realized there wasn't enough time to adapt it to a PostgreSQL version. I plan to implement this adaptation in the near future."
   ]
  },
  {
   "cell_type": "markdown",
   "metadata": {},
   "source": [
    "## 1. Request Data from Star Wars API\n",
    "This part is modified based on `request.py` from the Udacity Data Engineer Project."
   ]
  },
  {
   "cell_type": "code",
   "execution_count": 24,
   "metadata": {},
   "outputs": [
    {
     "name": "stdout",
     "output_type": "stream",
     "text": [
      "Requirement already satisfied: requests in /Users/zoe/Library/Mobile Documents/com~apple~CloudDocs/AIRE Learning/sql-project-star-wars-analysis/.venv/lib/python3.11/site-packages (2.31.0)\n",
      "Requirement already satisfied: charset-normalizer<4,>=2 in /Users/zoe/Library/Mobile Documents/com~apple~CloudDocs/AIRE Learning/sql-project-star-wars-analysis/.venv/lib/python3.11/site-packages (from requests) (3.3.1)\n",
      "Requirement already satisfied: idna<4,>=2.5 in /Users/zoe/Library/Mobile Documents/com~apple~CloudDocs/AIRE Learning/sql-project-star-wars-analysis/.venv/lib/python3.11/site-packages (from requests) (3.4)\n",
      "Requirement already satisfied: urllib3<3,>=1.21.1 in /Users/zoe/Library/Mobile Documents/com~apple~CloudDocs/AIRE Learning/sql-project-star-wars-analysis/.venv/lib/python3.11/site-packages (from requests) (2.0.7)\n",
      "Requirement already satisfied: certifi>=2017.4.17 in /Users/zoe/Library/Mobile Documents/com~apple~CloudDocs/AIRE Learning/sql-project-star-wars-analysis/.venv/lib/python3.11/site-packages (from requests) (2023.7.22)\n",
      "\n",
      "\u001b[1m[\u001b[0m\u001b[34;49mnotice\u001b[0m\u001b[1;39;49m]\u001b[0m\u001b[39;49m A new release of pip is available: \u001b[0m\u001b[31;49m23.2.1\u001b[0m\u001b[39;49m -> \u001b[0m\u001b[32;49m23.3.1\u001b[0m\n",
      "\u001b[1m[\u001b[0m\u001b[34;49mnotice\u001b[0m\u001b[1;39;49m]\u001b[0m\u001b[39;49m To update, run: \u001b[0m\u001b[32;49mpip install --upgrade pip\u001b[0m\n",
      "Note: you may need to restart the kernel to use updated packages.\n"
     ]
    }
   ],
   "source": [
    "pip install requests"
   ]
  },
  {
   "cell_type": "code",
   "execution_count": 2,
   "metadata": {},
   "outputs": [],
   "source": [
    "import requests\n",
    "import json\n",
    "import sqlite3"
   ]
  },
  {
   "cell_type": "code",
   "execution_count": 3,
   "metadata": {},
   "outputs": [],
   "source": [
    "class RequestStarWars:\n",
    "    def __init__(self):\n",
    "        self._base_urls = {\n",
    "            \"films\": \"https://swapi.dev/api/films/\",\n",
    "            \"people\": \"https://swapi.dev/api/people/\",\n",
    "            \"planets\": \"https://swapi.dev/api/planets/\",\n",
    "            \"species\": \"https://swapi.dev/api/species/\",\n",
    "            \"starships\": \"https://swapi.dev/api/starships/\",\n",
    "            \"vehicles\": \"https://swapi.dev/api/vehicles/\"\n",
    "        }\n",
    "        \n",
    "    def get_table_names(self):\n",
    "        return list(self._base_urls.keys())\n",
    "\n",
    "    def get_content(self, type):\n",
    "        url = self._base_urls[type]\n",
    "        all_data = []\n",
    "\n",
    "        while url:\n",
    "            response = requests.get(url)\n",
    "            if response.status_code == 200:\n",
    "                response_data = response.json()\n",
    "                all_data.extend(response_data['results'])\n",
    "                \n",
    "                url = response_data[\"next\"]\n",
    "\n",
    "            else:\n",
    "                print(f\"Request completed with Error. Response Code : {response.status_code}\")\n",
    "                break\n",
    "        # get id from url    \n",
    "        for item in all_data:\n",
    "            item['id'] = int(item['url'] .strip('/').split('/')[-1])\n",
    "            \n",
    "        return all_data"
   ]
  },
  {
   "cell_type": "code",
   "execution_count": 4,
   "metadata": {},
   "outputs": [],
   "source": [
    "# follow the don't repeat yourself principle\n",
    "# define functions to read and write json data. \n",
    "def write_to_file(file_path, data):\n",
    "    with open(file_path, 'w') as file:\n",
    "        json.dump(data, file, indent=4)\n",
    "\n",
    "def read_from_file(file_path):\n",
    "    with open(file_path, 'r') as file:\n",
    "        data = json.load(file)\n",
    "    return data\n",
    "\n",
    "# extract ids from urls\n",
    "def extract_ids(url_or_urls):\n",
    "    if isinstance(url_or_urls, str): \n",
    "        return [url_or_urls.split('/')[-2]]\n",
    "    elif isinstance(url_or_urls, list):  \n",
    "        return [url.split('/')[-2] for url in url_or_urls]\n",
    "    else:\n",
    "        raise ValueError(f\"Unexpected type: {type(url_or_urls)}\")"
   ]
  },
  {
   "cell_type": "code",
   "execution_count": 5,
   "metadata": {},
   "outputs": [],
   "source": [
    "import os\n",
    "os.makedirs('data', exist_ok=True)\n",
    "\n",
    "request_api = RequestStarWars()\n",
    "table_names = request_api.get_table_names()\n",
    "\n",
    "for table_name in table_names:\n",
    "    data = request_api.get_content(table_name)\n",
    "    file_path = f'data/{table_name}.json'\n",
    "    write_to_file(file_path, data)"
   ]
  },
  {
   "cell_type": "code",
   "execution_count": 6,
   "metadata": {},
   "outputs": [
    {
     "data": {
      "text/plain": [
       "\"\\nrequest_api = RequestStarWars()\\n\\ndata = request_api.get_content('films')\\nwith open(f'data/films.json', 'w') as file:\\n    json.dump(data, file, indent=4)\\n\""
      ]
     },
     "execution_count": 6,
     "metadata": {},
     "output_type": "execute_result"
    }
   ],
   "source": [
    "# use a single table for the test\n",
    "'''\n",
    "request_api = RequestStarWars()\n",
    "\n",
    "data = request_api.get_content('films')\n",
    "with open(f'data/films.json', 'w') as file:\n",
    "    json.dump(data, file, indent=4)\n",
    "'''"
   ]
  },
  {
   "cell_type": "code",
   "execution_count": 7,
   "metadata": {},
   "outputs": [
    {
     "name": "stdout",
     "output_type": "stream",
     "text": [
      "{'title': 'A New Hope', 'episode_id': 4, 'opening_crawl': \"It is a period of civil war.\\r\\nRebel spaceships, striking\\r\\nfrom a hidden base, have won\\r\\ntheir first victory against\\r\\nthe evil Galactic Empire.\\r\\n\\r\\nDuring the battle, Rebel\\r\\nspies managed to steal secret\\r\\nplans to the Empire's\\r\\nultimate weapon, the DEATH\\r\\nSTAR, an armored space\\r\\nstation with enough power\\r\\nto destroy an entire planet.\\r\\n\\r\\nPursued by the Empire's\\r\\nsinister agents, Princess\\r\\nLeia races home aboard her\\r\\nstarship, custodian of the\\r\\nstolen plans that can save her\\r\\npeople and restore\\r\\nfreedom to the galaxy....\", 'director': 'George Lucas', 'producer': 'Gary Kurtz, Rick McCallum', 'release_date': '1977-05-25', 'characters': ['https://swapi.dev/api/people/1/', 'https://swapi.dev/api/people/2/', 'https://swapi.dev/api/people/3/', 'https://swapi.dev/api/people/4/', 'https://swapi.dev/api/people/5/', 'https://swapi.dev/api/people/6/', 'https://swapi.dev/api/people/7/', 'https://swapi.dev/api/people/8/', 'https://swapi.dev/api/people/9/', 'https://swapi.dev/api/people/10/', 'https://swapi.dev/api/people/12/', 'https://swapi.dev/api/people/13/', 'https://swapi.dev/api/people/14/', 'https://swapi.dev/api/people/15/', 'https://swapi.dev/api/people/16/', 'https://swapi.dev/api/people/18/', 'https://swapi.dev/api/people/19/', 'https://swapi.dev/api/people/81/'], 'planets': ['https://swapi.dev/api/planets/1/', 'https://swapi.dev/api/planets/2/', 'https://swapi.dev/api/planets/3/'], 'starships': ['https://swapi.dev/api/starships/2/', 'https://swapi.dev/api/starships/3/', 'https://swapi.dev/api/starships/5/', 'https://swapi.dev/api/starships/9/', 'https://swapi.dev/api/starships/10/', 'https://swapi.dev/api/starships/11/', 'https://swapi.dev/api/starships/12/', 'https://swapi.dev/api/starships/13/'], 'vehicles': ['https://swapi.dev/api/vehicles/4/', 'https://swapi.dev/api/vehicles/6/', 'https://swapi.dev/api/vehicles/7/', 'https://swapi.dev/api/vehicles/8/'], 'species': ['https://swapi.dev/api/species/1/', 'https://swapi.dev/api/species/2/', 'https://swapi.dev/api/species/3/', 'https://swapi.dev/api/species/4/', 'https://swapi.dev/api/species/5/'], 'created': '2014-12-10T14:23:31.880000Z', 'edited': '2014-12-20T19:49:45.256000Z', 'url': 'https://swapi.dev/api/films/1/', 'id': 1}\n",
      "{'title': 'The Empire Strikes Back', 'episode_id': 5, 'opening_crawl': 'It is a dark time for the\\r\\nRebellion. Although the Death\\r\\nStar has been destroyed,\\r\\nImperial troops have driven the\\r\\nRebel forces from their hidden\\r\\nbase and pursued them across\\r\\nthe galaxy.\\r\\n\\r\\nEvading the dreaded Imperial\\r\\nStarfleet, a group of freedom\\r\\nfighters led by Luke Skywalker\\r\\nhas established a new secret\\r\\nbase on the remote ice world\\r\\nof Hoth.\\r\\n\\r\\nThe evil lord Darth Vader,\\r\\nobsessed with finding young\\r\\nSkywalker, has dispatched\\r\\nthousands of remote probes into\\r\\nthe far reaches of space....', 'director': 'Irvin Kershner', 'producer': 'Gary Kurtz, Rick McCallum', 'release_date': '1980-05-17', 'characters': ['https://swapi.dev/api/people/1/', 'https://swapi.dev/api/people/2/', 'https://swapi.dev/api/people/3/', 'https://swapi.dev/api/people/4/', 'https://swapi.dev/api/people/5/', 'https://swapi.dev/api/people/10/', 'https://swapi.dev/api/people/13/', 'https://swapi.dev/api/people/14/', 'https://swapi.dev/api/people/18/', 'https://swapi.dev/api/people/20/', 'https://swapi.dev/api/people/21/', 'https://swapi.dev/api/people/22/', 'https://swapi.dev/api/people/23/', 'https://swapi.dev/api/people/24/', 'https://swapi.dev/api/people/25/', 'https://swapi.dev/api/people/26/'], 'planets': ['https://swapi.dev/api/planets/4/', 'https://swapi.dev/api/planets/5/', 'https://swapi.dev/api/planets/6/', 'https://swapi.dev/api/planets/27/'], 'starships': ['https://swapi.dev/api/starships/3/', 'https://swapi.dev/api/starships/10/', 'https://swapi.dev/api/starships/11/', 'https://swapi.dev/api/starships/12/', 'https://swapi.dev/api/starships/15/', 'https://swapi.dev/api/starships/17/', 'https://swapi.dev/api/starships/21/', 'https://swapi.dev/api/starships/22/', 'https://swapi.dev/api/starships/23/'], 'vehicles': ['https://swapi.dev/api/vehicles/8/', 'https://swapi.dev/api/vehicles/14/', 'https://swapi.dev/api/vehicles/16/', 'https://swapi.dev/api/vehicles/18/', 'https://swapi.dev/api/vehicles/19/', 'https://swapi.dev/api/vehicles/20/'], 'species': ['https://swapi.dev/api/species/1/', 'https://swapi.dev/api/species/2/', 'https://swapi.dev/api/species/3/', 'https://swapi.dev/api/species/6/', 'https://swapi.dev/api/species/7/'], 'created': '2014-12-12T11:26:24.656000Z', 'edited': '2014-12-15T13:07:53.386000Z', 'url': 'https://swapi.dev/api/films/2/', 'id': 2}\n",
      "{'title': 'Return of the Jedi', 'episode_id': 6, 'opening_crawl': 'Luke Skywalker has returned to\\r\\nhis home planet of Tatooine in\\r\\nan attempt to rescue his\\r\\nfriend Han Solo from the\\r\\nclutches of the vile gangster\\r\\nJabba the Hutt.\\r\\n\\r\\nLittle does Luke know that the\\r\\nGALACTIC EMPIRE has secretly\\r\\nbegun construction on a new\\r\\narmored space station even\\r\\nmore powerful than the first\\r\\ndreaded Death Star.\\r\\n\\r\\nWhen completed, this ultimate\\r\\nweapon will spell certain doom\\r\\nfor the small band of rebels\\r\\nstruggling to restore freedom\\r\\nto the galaxy...', 'director': 'Richard Marquand', 'producer': 'Howard G. Kazanjian, George Lucas, Rick McCallum', 'release_date': '1983-05-25', 'characters': ['https://swapi.dev/api/people/1/', 'https://swapi.dev/api/people/2/', 'https://swapi.dev/api/people/3/', 'https://swapi.dev/api/people/4/', 'https://swapi.dev/api/people/5/', 'https://swapi.dev/api/people/10/', 'https://swapi.dev/api/people/13/', 'https://swapi.dev/api/people/14/', 'https://swapi.dev/api/people/16/', 'https://swapi.dev/api/people/18/', 'https://swapi.dev/api/people/20/', 'https://swapi.dev/api/people/21/', 'https://swapi.dev/api/people/22/', 'https://swapi.dev/api/people/25/', 'https://swapi.dev/api/people/27/', 'https://swapi.dev/api/people/28/', 'https://swapi.dev/api/people/29/', 'https://swapi.dev/api/people/30/', 'https://swapi.dev/api/people/31/', 'https://swapi.dev/api/people/45/'], 'planets': ['https://swapi.dev/api/planets/1/', 'https://swapi.dev/api/planets/5/', 'https://swapi.dev/api/planets/7/', 'https://swapi.dev/api/planets/8/', 'https://swapi.dev/api/planets/9/'], 'starships': ['https://swapi.dev/api/starships/2/', 'https://swapi.dev/api/starships/3/', 'https://swapi.dev/api/starships/10/', 'https://swapi.dev/api/starships/11/', 'https://swapi.dev/api/starships/12/', 'https://swapi.dev/api/starships/15/', 'https://swapi.dev/api/starships/17/', 'https://swapi.dev/api/starships/22/', 'https://swapi.dev/api/starships/23/', 'https://swapi.dev/api/starships/27/', 'https://swapi.dev/api/starships/28/', 'https://swapi.dev/api/starships/29/'], 'vehicles': ['https://swapi.dev/api/vehicles/8/', 'https://swapi.dev/api/vehicles/16/', 'https://swapi.dev/api/vehicles/18/', 'https://swapi.dev/api/vehicles/19/', 'https://swapi.dev/api/vehicles/24/', 'https://swapi.dev/api/vehicles/25/', 'https://swapi.dev/api/vehicles/26/', 'https://swapi.dev/api/vehicles/30/'], 'species': ['https://swapi.dev/api/species/1/', 'https://swapi.dev/api/species/2/', 'https://swapi.dev/api/species/3/', 'https://swapi.dev/api/species/5/', 'https://swapi.dev/api/species/6/', 'https://swapi.dev/api/species/8/', 'https://swapi.dev/api/species/9/', 'https://swapi.dev/api/species/10/', 'https://swapi.dev/api/species/15/'], 'created': '2014-12-18T10:39:33.255000Z', 'edited': '2014-12-20T09:48:37.462000Z', 'url': 'https://swapi.dev/api/films/3/', 'id': 3}\n",
      "{'title': 'The Phantom Menace', 'episode_id': 1, 'opening_crawl': 'Turmoil has engulfed the\\r\\nGalactic Republic. The taxation\\r\\nof trade routes to outlying star\\r\\nsystems is in dispute.\\r\\n\\r\\nHoping to resolve the matter\\r\\nwith a blockade of deadly\\r\\nbattleships, the greedy Trade\\r\\nFederation has stopped all\\r\\nshipping to the small planet\\r\\nof Naboo.\\r\\n\\r\\nWhile the Congress of the\\r\\nRepublic endlessly debates\\r\\nthis alarming chain of events,\\r\\nthe Supreme Chancellor has\\r\\nsecretly dispatched two Jedi\\r\\nKnights, the guardians of\\r\\npeace and justice in the\\r\\ngalaxy, to settle the conflict....', 'director': 'George Lucas', 'producer': 'Rick McCallum', 'release_date': '1999-05-19', 'characters': ['https://swapi.dev/api/people/2/', 'https://swapi.dev/api/people/3/', 'https://swapi.dev/api/people/10/', 'https://swapi.dev/api/people/11/', 'https://swapi.dev/api/people/16/', 'https://swapi.dev/api/people/20/', 'https://swapi.dev/api/people/21/', 'https://swapi.dev/api/people/32/', 'https://swapi.dev/api/people/33/', 'https://swapi.dev/api/people/34/', 'https://swapi.dev/api/people/35/', 'https://swapi.dev/api/people/36/', 'https://swapi.dev/api/people/37/', 'https://swapi.dev/api/people/38/', 'https://swapi.dev/api/people/39/', 'https://swapi.dev/api/people/40/', 'https://swapi.dev/api/people/41/', 'https://swapi.dev/api/people/42/', 'https://swapi.dev/api/people/43/', 'https://swapi.dev/api/people/44/', 'https://swapi.dev/api/people/46/', 'https://swapi.dev/api/people/47/', 'https://swapi.dev/api/people/48/', 'https://swapi.dev/api/people/49/', 'https://swapi.dev/api/people/50/', 'https://swapi.dev/api/people/51/', 'https://swapi.dev/api/people/52/', 'https://swapi.dev/api/people/53/', 'https://swapi.dev/api/people/54/', 'https://swapi.dev/api/people/55/', 'https://swapi.dev/api/people/56/', 'https://swapi.dev/api/people/57/', 'https://swapi.dev/api/people/58/', 'https://swapi.dev/api/people/59/'], 'planets': ['https://swapi.dev/api/planets/1/', 'https://swapi.dev/api/planets/8/', 'https://swapi.dev/api/planets/9/'], 'starships': ['https://swapi.dev/api/starships/31/', 'https://swapi.dev/api/starships/32/', 'https://swapi.dev/api/starships/39/', 'https://swapi.dev/api/starships/40/', 'https://swapi.dev/api/starships/41/'], 'vehicles': ['https://swapi.dev/api/vehicles/33/', 'https://swapi.dev/api/vehicles/34/', 'https://swapi.dev/api/vehicles/35/', 'https://swapi.dev/api/vehicles/36/', 'https://swapi.dev/api/vehicles/37/', 'https://swapi.dev/api/vehicles/38/', 'https://swapi.dev/api/vehicles/42/'], 'species': ['https://swapi.dev/api/species/1/', 'https://swapi.dev/api/species/2/', 'https://swapi.dev/api/species/6/', 'https://swapi.dev/api/species/11/', 'https://swapi.dev/api/species/12/', 'https://swapi.dev/api/species/13/', 'https://swapi.dev/api/species/14/', 'https://swapi.dev/api/species/15/', 'https://swapi.dev/api/species/16/', 'https://swapi.dev/api/species/17/', 'https://swapi.dev/api/species/18/', 'https://swapi.dev/api/species/19/', 'https://swapi.dev/api/species/20/', 'https://swapi.dev/api/species/21/', 'https://swapi.dev/api/species/22/', 'https://swapi.dev/api/species/23/', 'https://swapi.dev/api/species/24/', 'https://swapi.dev/api/species/25/', 'https://swapi.dev/api/species/26/', 'https://swapi.dev/api/species/27/'], 'created': '2014-12-19T16:52:55.740000Z', 'edited': '2014-12-20T10:54:07.216000Z', 'url': 'https://swapi.dev/api/films/4/', 'id': 4}\n",
      "{'title': 'Attack of the Clones', 'episode_id': 2, 'opening_crawl': 'There is unrest in the Galactic\\r\\nSenate. Several thousand solar\\r\\nsystems have declared their\\r\\nintentions to leave the Republic.\\r\\n\\r\\nThis separatist movement,\\r\\nunder the leadership of the\\r\\nmysterious Count Dooku, has\\r\\nmade it difficult for the limited\\r\\nnumber of Jedi Knights to maintain \\r\\npeace and order in the galaxy.\\r\\n\\r\\nSenator Amidala, the former\\r\\nQueen of Naboo, is returning\\r\\nto the Galactic Senate to vote\\r\\non the critical issue of creating\\r\\nan ARMY OF THE REPUBLIC\\r\\nto assist the overwhelmed\\r\\nJedi....', 'director': 'George Lucas', 'producer': 'Rick McCallum', 'release_date': '2002-05-16', 'characters': ['https://swapi.dev/api/people/2/', 'https://swapi.dev/api/people/3/', 'https://swapi.dev/api/people/6/', 'https://swapi.dev/api/people/7/', 'https://swapi.dev/api/people/10/', 'https://swapi.dev/api/people/11/', 'https://swapi.dev/api/people/20/', 'https://swapi.dev/api/people/21/', 'https://swapi.dev/api/people/22/', 'https://swapi.dev/api/people/33/', 'https://swapi.dev/api/people/35/', 'https://swapi.dev/api/people/36/', 'https://swapi.dev/api/people/40/', 'https://swapi.dev/api/people/43/', 'https://swapi.dev/api/people/46/', 'https://swapi.dev/api/people/51/', 'https://swapi.dev/api/people/52/', 'https://swapi.dev/api/people/53/', 'https://swapi.dev/api/people/58/', 'https://swapi.dev/api/people/59/', 'https://swapi.dev/api/people/60/', 'https://swapi.dev/api/people/61/', 'https://swapi.dev/api/people/62/', 'https://swapi.dev/api/people/63/', 'https://swapi.dev/api/people/64/', 'https://swapi.dev/api/people/65/', 'https://swapi.dev/api/people/66/', 'https://swapi.dev/api/people/67/', 'https://swapi.dev/api/people/68/', 'https://swapi.dev/api/people/69/', 'https://swapi.dev/api/people/70/', 'https://swapi.dev/api/people/71/', 'https://swapi.dev/api/people/72/', 'https://swapi.dev/api/people/73/', 'https://swapi.dev/api/people/74/', 'https://swapi.dev/api/people/75/', 'https://swapi.dev/api/people/76/', 'https://swapi.dev/api/people/77/', 'https://swapi.dev/api/people/78/', 'https://swapi.dev/api/people/82/'], 'planets': ['https://swapi.dev/api/planets/1/', 'https://swapi.dev/api/planets/8/', 'https://swapi.dev/api/planets/9/', 'https://swapi.dev/api/planets/10/', 'https://swapi.dev/api/planets/11/'], 'starships': ['https://swapi.dev/api/starships/21/', 'https://swapi.dev/api/starships/32/', 'https://swapi.dev/api/starships/39/', 'https://swapi.dev/api/starships/43/', 'https://swapi.dev/api/starships/47/', 'https://swapi.dev/api/starships/48/', 'https://swapi.dev/api/starships/49/', 'https://swapi.dev/api/starships/52/', 'https://swapi.dev/api/starships/58/'], 'vehicles': ['https://swapi.dev/api/vehicles/4/', 'https://swapi.dev/api/vehicles/44/', 'https://swapi.dev/api/vehicles/45/', 'https://swapi.dev/api/vehicles/46/', 'https://swapi.dev/api/vehicles/50/', 'https://swapi.dev/api/vehicles/51/', 'https://swapi.dev/api/vehicles/53/', 'https://swapi.dev/api/vehicles/54/', 'https://swapi.dev/api/vehicles/55/', 'https://swapi.dev/api/vehicles/56/', 'https://swapi.dev/api/vehicles/57/'], 'species': ['https://swapi.dev/api/species/1/', 'https://swapi.dev/api/species/2/', 'https://swapi.dev/api/species/6/', 'https://swapi.dev/api/species/12/', 'https://swapi.dev/api/species/13/', 'https://swapi.dev/api/species/15/', 'https://swapi.dev/api/species/28/', 'https://swapi.dev/api/species/29/', 'https://swapi.dev/api/species/30/', 'https://swapi.dev/api/species/31/', 'https://swapi.dev/api/species/32/', 'https://swapi.dev/api/species/33/', 'https://swapi.dev/api/species/34/', 'https://swapi.dev/api/species/35/'], 'created': '2014-12-20T10:57:57.886000Z', 'edited': '2014-12-20T20:18:48.516000Z', 'url': 'https://swapi.dev/api/films/5/', 'id': 5}\n",
      "{'title': 'Revenge of the Sith', 'episode_id': 3, 'opening_crawl': 'War! The Republic is crumbling\\r\\nunder attacks by the ruthless\\r\\nSith Lord, Count Dooku.\\r\\nThere are heroes on both sides.\\r\\nEvil is everywhere.\\r\\n\\r\\nIn a stunning move, the\\r\\nfiendish droid leader, General\\r\\nGrievous, has swept into the\\r\\nRepublic capital and kidnapped\\r\\nChancellor Palpatine, leader of\\r\\nthe Galactic Senate.\\r\\n\\r\\nAs the Separatist Droid Army\\r\\nattempts to flee the besieged\\r\\ncapital with their valuable\\r\\nhostage, two Jedi Knights lead a\\r\\ndesperate mission to rescue the\\r\\ncaptive Chancellor....', 'director': 'George Lucas', 'producer': 'Rick McCallum', 'release_date': '2005-05-19', 'characters': ['https://swapi.dev/api/people/1/', 'https://swapi.dev/api/people/2/', 'https://swapi.dev/api/people/3/', 'https://swapi.dev/api/people/4/', 'https://swapi.dev/api/people/5/', 'https://swapi.dev/api/people/6/', 'https://swapi.dev/api/people/7/', 'https://swapi.dev/api/people/10/', 'https://swapi.dev/api/people/11/', 'https://swapi.dev/api/people/12/', 'https://swapi.dev/api/people/13/', 'https://swapi.dev/api/people/20/', 'https://swapi.dev/api/people/21/', 'https://swapi.dev/api/people/33/', 'https://swapi.dev/api/people/35/', 'https://swapi.dev/api/people/46/', 'https://swapi.dev/api/people/51/', 'https://swapi.dev/api/people/52/', 'https://swapi.dev/api/people/53/', 'https://swapi.dev/api/people/54/', 'https://swapi.dev/api/people/55/', 'https://swapi.dev/api/people/56/', 'https://swapi.dev/api/people/58/', 'https://swapi.dev/api/people/63/', 'https://swapi.dev/api/people/64/', 'https://swapi.dev/api/people/67/', 'https://swapi.dev/api/people/68/', 'https://swapi.dev/api/people/75/', 'https://swapi.dev/api/people/78/', 'https://swapi.dev/api/people/79/', 'https://swapi.dev/api/people/80/', 'https://swapi.dev/api/people/81/', 'https://swapi.dev/api/people/82/', 'https://swapi.dev/api/people/83/'], 'planets': ['https://swapi.dev/api/planets/1/', 'https://swapi.dev/api/planets/2/', 'https://swapi.dev/api/planets/5/', 'https://swapi.dev/api/planets/8/', 'https://swapi.dev/api/planets/9/', 'https://swapi.dev/api/planets/12/', 'https://swapi.dev/api/planets/13/', 'https://swapi.dev/api/planets/14/', 'https://swapi.dev/api/planets/15/', 'https://swapi.dev/api/planets/16/', 'https://swapi.dev/api/planets/17/', 'https://swapi.dev/api/planets/18/', 'https://swapi.dev/api/planets/19/'], 'starships': ['https://swapi.dev/api/starships/2/', 'https://swapi.dev/api/starships/32/', 'https://swapi.dev/api/starships/48/', 'https://swapi.dev/api/starships/59/', 'https://swapi.dev/api/starships/61/', 'https://swapi.dev/api/starships/63/', 'https://swapi.dev/api/starships/64/', 'https://swapi.dev/api/starships/65/', 'https://swapi.dev/api/starships/66/', 'https://swapi.dev/api/starships/68/', 'https://swapi.dev/api/starships/74/', 'https://swapi.dev/api/starships/75/'], 'vehicles': ['https://swapi.dev/api/vehicles/33/', 'https://swapi.dev/api/vehicles/50/', 'https://swapi.dev/api/vehicles/53/', 'https://swapi.dev/api/vehicles/56/', 'https://swapi.dev/api/vehicles/60/', 'https://swapi.dev/api/vehicles/62/', 'https://swapi.dev/api/vehicles/67/', 'https://swapi.dev/api/vehicles/69/', 'https://swapi.dev/api/vehicles/70/', 'https://swapi.dev/api/vehicles/71/', 'https://swapi.dev/api/vehicles/72/', 'https://swapi.dev/api/vehicles/73/', 'https://swapi.dev/api/vehicles/76/'], 'species': ['https://swapi.dev/api/species/1/', 'https://swapi.dev/api/species/2/', 'https://swapi.dev/api/species/3/', 'https://swapi.dev/api/species/6/', 'https://swapi.dev/api/species/15/', 'https://swapi.dev/api/species/19/', 'https://swapi.dev/api/species/20/', 'https://swapi.dev/api/species/23/', 'https://swapi.dev/api/species/24/', 'https://swapi.dev/api/species/25/', 'https://swapi.dev/api/species/26/', 'https://swapi.dev/api/species/27/', 'https://swapi.dev/api/species/28/', 'https://swapi.dev/api/species/29/', 'https://swapi.dev/api/species/30/', 'https://swapi.dev/api/species/33/', 'https://swapi.dev/api/species/34/', 'https://swapi.dev/api/species/35/', 'https://swapi.dev/api/species/36/', 'https://swapi.dev/api/species/37/'], 'created': '2014-12-20T18:49:38.403000Z', 'edited': '2014-12-20T20:47:52.073000Z', 'url': 'https://swapi.dev/api/films/6/', 'id': 6}\n"
     ]
    }
   ],
   "source": [
    "# examine the content\n",
    "single_file_path = \"data/films.json\"\n",
    "result = read_from_file(single_file_path)\n",
    "for item in result:\n",
    "        print(item)     "
   ]
  },
  {
   "cell_type": "code",
   "execution_count": 8,
   "metadata": {},
   "outputs": [],
   "source": [
    "connections = {\n",
    "    \"people_connections\": {\n",
    "        \"homeworld\": {},\n",
    "        \"films\": {},\n",
    "        \"species\": {},\n",
    "        \"vehicles\": {},\n",
    "        \"starships\": {}\n",
    "    },\n",
    "    \"films_connections\": {\n",
    "        \"characters\": {},\n",
    "        \"species\": {},\n",
    "        \"vehicles\": {},\n",
    "        \"starships\": {},\n",
    "        \"planets\": {}\n",
    "    },\n",
    "    \"starships_connections\":{\n",
    "        \"films\":{},\n",
    "        \"pilots\":{}\n",
    "    },\n",
    "    \"vehicles_connections\":{\n",
    "        \"films\":{},\n",
    "        \"pilots\":{}\n",
    "    },\n",
    "    \"species_connections\":{\n",
    "        \"people\":{},\n",
    "        \"films\":{}        \n",
    "    },\n",
    "    \"planets_connections\":{\n",
    "        \"residents\":{},\n",
    "        \"films\":{}\n",
    "    }\n",
    "}\n"
   ]
  },
  {
   "cell_type": "code",
   "execution_count": 9,
   "metadata": {},
   "outputs": [],
   "source": [
    "# create a function that could be used to save connections among tables.\n",
    "def create_connections(table_name, connections_dict):\n",
    "    table_connections = {}\n",
    "\n",
    "    file_path = f\"data/{table_name}.json\"\n",
    "    table_data = read_from_file(file_path)\n",
    "    for item in table_data:\n",
    "        # for every one, we create a new dict to store the connections\n",
    "        # made a mistake here, using 'copy' \n",
    "        person_connections = connections_dict.copy()\n",
    "        #print(person_connections)\n",
    "        for key in person_connections.keys():\n",
    "            #print(key)\n",
    "            if item.get(key):\n",
    "                ids = extract_ids(item[key])\n",
    "            person_connections[key] = ids\n",
    "        table_connections[item['id']] = person_connections\n",
    "    \n",
    "    return table_connections"
   ]
  },
  {
   "cell_type": "code",
   "execution_count": 10,
   "metadata": {},
   "outputs": [],
   "source": [
    "# save connections to json files\n",
    "for table_name in table_names:\n",
    "    connection_file_path = f'data/{table_name}_connections.json'\n",
    "    connection_name = table_name + '_connections'\n",
    "    data = create_connections(table_name, connections[connection_name])\n",
    "    write_to_file(connection_file_path, data)"
   ]
  },
  {
   "cell_type": "markdown",
   "metadata": {},
   "source": [
    "## 2. Create Schemas and Build Connections"
   ]
  },
  {
   "cell_type": "code",
   "execution_count": 11,
   "metadata": {},
   "outputs": [],
   "source": [
    "db_name = 'starwars.db'"
   ]
  },
  {
   "cell_type": "code",
   "execution_count": 12,
   "metadata": {},
   "outputs": [],
   "source": [
    "# define the data schmea and write relevant SQL statements according to the documentation\n",
    "# the main change here is add id column for each table\n",
    "\n",
    "create_tables_ddls = ['''\n",
    "CREATE TABLE IF NOT EXISTS people (\n",
    "    id INTEGER PRIMARY KEY,\n",
    "    name TEXT,\n",
    "    birth_year TEXT,\n",
    "    eye_color TEXT,\n",
    "    gender TEXT,\n",
    "    hair_color TEXT,\n",
    "    height TEXT,\n",
    "    mass TEXT,\n",
    "    skin_color TEXT\n",
    ");\n",
    "''',\n",
    "'''\n",
    "CREATE TABLE IF NOT EXISTS films (\n",
    "    id INTEGER PRIMARY KEY,\n",
    "    title TEXT,\n",
    "    episode_id INTEGER,\n",
    "    opening_crawl TEXT,\n",
    "    director TEXT,\n",
    "    producer TEXT,\n",
    "    release_date DATE\n",
    ");\n",
    "''',\n",
    "'''\n",
    "CREATE TABLE IF NOT EXISTS starships (\n",
    "    id INTEGER PRIMARY KEY,\n",
    "    name TEXT,\n",
    "    model TEXT,\n",
    "    starship_class TEXT,\n",
    "    manufacturer TEXT,\n",
    "    cost_in_credits TEXT,\n",
    "    length TEXT,\n",
    "    crew TEXT,\n",
    "    passengers TEXT,\n",
    "    max_atmosphering_speed TEXT,\n",
    "    hyperdrive_rating TEXT,\n",
    "    MGLT TEXT,\n",
    "    cargo_capacity TEXT,\n",
    "    consumables TEXT\n",
    ");\n",
    "''',\n",
    "'''\n",
    "CREATE TABLE IF NOT EXISTS vehicles (\n",
    "    id INTEGER PRIMARY KEY,\n",
    "    name TEXT,\n",
    "    model TEXT,\n",
    "    vehicle_class TEXT,\n",
    "    manufacturer TEXT,\n",
    "    length TEXT,\n",
    "    cost_in_credits TEXT,\n",
    "    crew TEXT,\n",
    "    passengers TEXT,\n",
    "    max_atmosphering_speed TEXT,\n",
    "    cargo_capacity TEXT,\n",
    "    consumables TEXT\n",
    ");\n",
    "''',\n",
    "'''\n",
    "CREATE TABLE IF NOT EXISTS species (\n",
    "    id INTEGER PRIMARY KEY,\n",
    "    name TEXT,\n",
    "    average_height TEXT,\n",
    "    average_lifespan TEXT,\n",
    "    classification TEXT,\n",
    "    designation TEXT,\n",
    "    eye_colors TEXT,\n",
    "    hair_colors TEXT,\n",
    "    homeworld TEXT,\n",
    "    language TEXT,\n",
    "    skin_colors TEXT\n",
    ");\n",
    "''',\n",
    "'''\n",
    "CREATE TABLE IF NOT EXISTS planets (\n",
    "    id INTEGER PRIMARY KEY,\n",
    "    name TEXT,\n",
    "    diameter TEXT,\n",
    "    rotation_period TEXT,\n",
    "    orbital_period TEXT,\n",
    "    gravity TEXT,\n",
    "    population TEXT,\n",
    "    climate TEXT,\n",
    "    terrain TEXT,\n",
    "    surface_water TEXT\n",
    ");\n",
    "'''\n",
    "]"
   ]
  },
  {
   "cell_type": "code",
   "execution_count": 13,
   "metadata": {},
   "outputs": [],
   "source": [
    "# pick up some connections that will used for data analysis, mainly in the people table.\n",
    "create_connections_ddls = [\n",
    "    '''\n",
    "    -- people_films\n",
    "    CREATE TABLE IF NOT EXISTS people_films (\n",
    "    person_id INTEGER,\n",
    "    film_id INTEGER,\n",
    "    PRIMARY KEY (person_id, film_id),\n",
    "    FOREIGN KEY (person_id) REFERENCES people(id),\n",
    "    FOREIGN KEY (film_id) REFERENCES films(id));\n",
    "    ''',\n",
    "    '''\n",
    "    --people_species\n",
    "    CREATE TABLE IF NOT EXISTS people_species (\n",
    "    person_id INTEGER,\n",
    "    specie_id INTEGER,\n",
    "    PRIMARY KEY (person_id, specie_id),\n",
    "    FOREIGN KEY (person_id) REFERENCES people(id),\n",
    "    FOREIGN KEY (specie_id) REFERENCES species(id)\n",
    "    );\n",
    "    ''',\n",
    "    ''' \n",
    "    --people_starships\n",
    "    CREATE TABLE IF NOT EXISTS people_starships (\n",
    "    person_id INTEGER,\n",
    "    starship_id INTEGER,\n",
    "    PRIMARY KEY (person_id, starship_id),\n",
    "    FOREIGN KEY (person_id) REFERENCES people(id),\n",
    "    FOREIGN KEY (starship_id) REFERENCES starships(id)\n",
    "    );\n",
    "    ''',\n",
    "    '''\n",
    "    -- people_vehicles\n",
    "    CREATE TABLE IF NOT EXISTS people_vehicles (\n",
    "    person_id INTEGER,\n",
    "    vehicle_id INTEGER,\n",
    "    PRIMARY KEY (person_id, vehicle_id),\n",
    "    FOREIGN KEY (person_id) REFERENCES people(id),\n",
    "    FOREIGN KEY (vehicle_id) REFERENCES vehicles(id)\n",
    "    );\n",
    "    ''',\n",
    "    '''\n",
    "    -- people_planets\n",
    "    CREATE TABLE IF NOT EXISTS people_planets (\n",
    "    person_id INTEGER,\n",
    "    planet_id INTEGER,\n",
    "    PRIMARY KEY (person_id, planet_id),\n",
    "    FOREIGN KEY (person_id) REFERENCES people(id),\n",
    "    FOREIGN KEY (planet_id) REFERENCES planets(id)\n",
    "    );\n",
    "    '''\n",
    "]"
   ]
  },
  {
   "cell_type": "markdown",
   "metadata": {},
   "source": [
    "## 3. Insert values to the tables"
   ]
  },
  {
   "cell_type": "code",
   "execution_count": 14,
   "metadata": {},
   "outputs": [],
   "source": [
    "class DatabaseDriver:\n",
    "    def __init__(self, db_name):\n",
    "        self._conn = sqlite3.connect(db_name)\n",
    "        self._cur = self._conn.cursor()\n",
    "\n",
    "    def create_tables(self, ddl_statements):\n",
    "        for statement in ddl_statements:\n",
    "            self._cur.execute(statement)\n",
    "        self._conn.commit()\n",
    "\n",
    "    def execute_query(self, query, params=None):\n",
    "        if params:\n",
    "            self._cur.execute(query, params)\n",
    "        else:\n",
    "            self._cur.execute(query)\n",
    "        self._conn.commit()\n",
    "\n",
    "    def save_data_to_table(self, table_name, item, primary_key_field):\n",
    "        '''\n",
    "        Insert individual data to the table.\n",
    "        Item is a dict.\n",
    "        '''    \n",
    "        # use serialization to convert lists to strings\n",
    "        columns_to_exclude = list(connections.get(f'{table_name}_connections', {}).keys())\n",
    "        columns_to_exclude.extend([\"url\",\"created\",\"edited\"])\n",
    "        filtered_item = {k: v for k, v in item.items() if k not in columns_to_exclude}\n",
    "        #print(filtered_item)\n",
    "\n",
    "        # generalize the Insert into and avoid duplicates SQL statement\n",
    "        column_name = ', '.join(filtered_item.keys())\n",
    "        place_holder = ', '.join(['?'] * len(filtered_item))\n",
    "        primary_key_value = filtered_item.get(primary_key_field)\n",
    "        #print(column_name)\n",
    "        insert_sql = f\"INSERT INTO {table_name} ({column_name}) VALUES ({place_holder})\"\n",
    "        check_sql = f\"SELECT * FROM {table_name} WHERE {primary_key_field} = ?\"\n",
    "        \n",
    "        self.execute_query(check_sql, (primary_key_value,))\n",
    "        if self._cur.fetchone() is None:\n",
    "            self.execute_query(insert_sql, tuple(filtered_item.values()))\n",
    "\n",
    "    def save_connections(self, table_name, primary_key_field):\n",
    "        data = read_from_file(f\"data/{table_name}_connections.json\")\n",
    "        for primary_id, connections in data.items():\n",
    "            id = int(primary_id)\n",
    "            for connection_type, connection_ids in connections.items():\n",
    "                connection_table_name = f'{table_name}_{connection_type}'\n",
    "                for connection_id in connection_ids:\n",
    "                    connection_id = int(connection_id)\n",
    "                    # print(connection_type[:-1])\n",
    "                    insert_sql = f'''\n",
    "                        INSERT INTO {connection_table_name} ({primary_key_field}, {connection_type[:-1]}_id)\n",
    "                        VALUES (?, ?)\n",
    "                        ON CONFLICT ({primary_key_field}, {connection_type[:-1]}_id) DO NOTHING;\n",
    "                    '''\n",
    "                    self.execute_query(insert_sql,(id, connection_id))\n",
    "                    \n",
    "    def close(self):\n",
    "        self._cur.close()\n",
    "        self._conn.close()"
   ]
  },
  {
   "cell_type": "code",
   "execution_count": 15,
   "metadata": {},
   "outputs": [],
   "source": [
    "# create tables\n",
    "connect_star_wars = DatabaseDriver(db_name)\n",
    "connect_star_wars.create_tables(create_tables_ddls)\n",
    "connect_star_wars.create_tables(create_connections_ddls)\n",
    "\n",
    "# insert data to tables from json files\n",
    "for table_name in table_names:\n",
    "    table_file_path = f'data/{table_name}.json'\n",
    "    data = read_from_file(table_file_path)\n",
    "    for item in data:\n",
    "        connect_star_wars.save_data_to_table(table_name, item, 'id')"
   ]
  },
  {
   "cell_type": "code",
   "execution_count": 16,
   "metadata": {},
   "outputs": [],
   "source": [
    "# clean the people data\n",
    "people_data = read_from_file(\"data/people_connections.json\")\n",
    "for person_id, person_data in people_data.items():\n",
    "    if person_data.get('homeworld'):\n",
    "        person_data['planets'] = person_data.pop('homeworld')\n",
    "\n",
    "write_to_file(\"data/people_connections.json\", people_data)"
   ]
  },
  {
   "cell_type": "code",
   "execution_count": 17,
   "metadata": {},
   "outputs": [],
   "source": [
    "# insert connections into the table\n",
    "connect_star_wars.save_connections('people','person_id')\n",
    "\n",
    "connect_star_wars.close()"
   ]
  },
  {
   "cell_type": "markdown",
   "metadata": {},
   "source": [
    "## 4. Data Validation\n",
    "- This part is implemented in the first version.\n",
    "- Check if we have collected the right amount of data from the API."
   ]
  },
  {
   "cell_type": "code",
   "execution_count": 18,
   "metadata": {},
   "outputs": [],
   "source": [
    "# check the count of table data matches the API count or not\n",
    "def check_table_rows(table_name):\n",
    "    with sqlite3.connect('starwars.db') as conn:\n",
    "        c = conn.cursor()\n",
    "        rows_count = c.execute(f\"SELECT count(*) FROM {table_name}\").fetchone()[0]\n",
    "    return rows_count\n",
    "\n",
    "def check_api_count(table_name):\n",
    "    response = requests.get(f'https://swapi.dev/api/{table_name}')\n",
    "\n",
    "    api_count = response.json()[\"count\"]\n",
    "    rows_count =check_table_rows(table_name)\n",
    "\n",
    "    if api_count > rows_count:\n",
    "        print(f\"Check Table {table_name}, there are missing rows. Table has {rows_count} raws, it is supposed to have {api_count} raws.\")\n",
    "    elif api_count > rows_count:\n",
    "        print(f\"Check Table {table_name}, there are more rows than expected. Table has {rows_count} raws, it is supposed to have {api_count} raws.\")        \n",
    "    else:\n",
    "        print(f\"Table {table_name} passes the data validatation.\")\n"
   ]
  },
  {
   "cell_type": "code",
   "execution_count": 19,
   "metadata": {},
   "outputs": [
    {
     "name": "stdout",
     "output_type": "stream",
     "text": [
      "Table people passes the data validatation.\n",
      "Table films passes the data validatation.\n",
      "Table starships passes the data validatation.\n",
      "Table vehicles passes the data validatation.\n",
      "Table species passes the data validatation.\n",
      "Table planets passes the data validatation.\n"
     ]
    }
   ],
   "source": [
    "# call each table for the validation\n",
    "table_names = ['people', 'films', 'starships', 'vehicles', 'species', 'planets']\n",
    "\n",
    "for table_name in table_names:\n",
    "    check_api_count(table_name)"
   ]
  },
  {
   "cell_type": "markdown",
   "metadata": {},
   "source": [
    "## 5. Key Takeaways:\n",
    "\n",
    "1. Before implementing code, it's essential to understand the data and define the question that needs to be solved. For instance, if we need to join tables, it's not appropriate to convert the list of URLs to a string. Instead, we should extract IDs from the URLs and create connection tables.\n",
    "2. Review similar online projects to understand the best practices concerning related issues. This can save a significant amount of time and effort in the future.\n",
    "3. Code-related Takeaways:\n",
    "   1. If we want to create a new dictionary inside the function. We could use .copy() to do it.\n",
    "   2. For the insert SQL statement, the query should be passed by parameters and also in the form of tuples.\n",
    "   3. Before manipulating data directly in the databases(it's hard to do in Sqlite3), we could use Json to process the data. For exmaple, using `.pop` to update the column name."
   ]
  }
 ],
 "metadata": {
  "kernelspec": {
   "display_name": "Python 3",
   "language": "python",
   "name": "python3"
  },
  "language_info": {
   "codemirror_mode": {
    "name": "ipython",
    "version": 3
   },
   "file_extension": ".py",
   "mimetype": "text/x-python",
   "name": "python",
   "nbconvert_exporter": "python",
   "pygments_lexer": "ipython3",
   "version": "3.11.6"
  },
  "orig_nbformat": 4
 },
 "nbformat": 4,
 "nbformat_minor": 2
}
