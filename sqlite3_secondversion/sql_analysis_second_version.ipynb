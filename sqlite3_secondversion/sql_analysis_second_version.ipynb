{
 "cells": [
  {
   "cell_type": "markdown",
   "metadata": {},
   "source": [
    "## 0. Understanding Data\n"
   ]
  },
  {
   "cell_type": "code",
   "execution_count": 1,
   "metadata": {},
   "outputs": [
    {
     "name": "stdout",
     "output_type": "stream",
     "text": [
      "Requirement already satisfied: pandas in /Users/zoe/Library/Mobile Documents/com~apple~CloudDocs/AIRE Learning/sql-project-star-wars-analysis/.venv/lib/python3.11/site-packages (2.1.1)\n",
      "Requirement already satisfied: numpy>=1.23.2 in /Users/zoe/Library/Mobile Documents/com~apple~CloudDocs/AIRE Learning/sql-project-star-wars-analysis/.venv/lib/python3.11/site-packages (from pandas) (1.26.1)\n",
      "Requirement already satisfied: python-dateutil>=2.8.2 in /Users/zoe/Library/Mobile Documents/com~apple~CloudDocs/AIRE Learning/sql-project-star-wars-analysis/.venv/lib/python3.11/site-packages (from pandas) (2.8.2)\n",
      "Requirement already satisfied: pytz>=2020.1 in /Users/zoe/Library/Mobile Documents/com~apple~CloudDocs/AIRE Learning/sql-project-star-wars-analysis/.venv/lib/python3.11/site-packages (from pandas) (2023.3.post1)\n",
      "Requirement already satisfied: tzdata>=2022.1 in /Users/zoe/Library/Mobile Documents/com~apple~CloudDocs/AIRE Learning/sql-project-star-wars-analysis/.venv/lib/python3.11/site-packages (from pandas) (2023.3)\n",
      "Requirement already satisfied: six>=1.5 in /Users/zoe/Library/Mobile Documents/com~apple~CloudDocs/AIRE Learning/sql-project-star-wars-analysis/.venv/lib/python3.11/site-packages (from python-dateutil>=2.8.2->pandas) (1.16.0)\n",
      "\n",
      "\u001b[1m[\u001b[0m\u001b[34;49mnotice\u001b[0m\u001b[1;39;49m]\u001b[0m\u001b[39;49m A new release of pip is available: \u001b[0m\u001b[31;49m23.2.1\u001b[0m\u001b[39;49m -> \u001b[0m\u001b[32;49m23.3.1\u001b[0m\n",
      "\u001b[1m[\u001b[0m\u001b[34;49mnotice\u001b[0m\u001b[1;39;49m]\u001b[0m\u001b[39;49m To update, run: \u001b[0m\u001b[32;49mpip install --upgrade pip\u001b[0m\n",
      "Note: you may need to restart the kernel to use updated packages.\n"
     ]
    }
   ],
   "source": [
    "pip install pandas"
   ]
  },
  {
   "cell_type": "code",
   "execution_count": 2,
   "metadata": {},
   "outputs": [],
   "source": [
    "# import required modules\n",
    "import sqlite3\n",
    "import pandas as pd"
   ]
  },
  {
   "cell_type": "code",
   "execution_count": 3,
   "metadata": {},
   "outputs": [],
   "source": [
    "# create a connection \n",
    "conn = sqlite3.connect('starwars.db')"
   ]
  },
  {
   "cell_type": "code",
   "execution_count": 4,
   "metadata": {},
   "outputs": [
    {
     "data": {
      "text/plain": [
       "'people'"
      ]
     },
     "metadata": {},
     "output_type": "display_data"
    },
    {
     "data": {
      "text/html": [
       "<div>\n",
       "<style scoped>\n",
       "    .dataframe tbody tr th:only-of-type {\n",
       "        vertical-align: middle;\n",
       "    }\n",
       "\n",
       "    .dataframe tbody tr th {\n",
       "        vertical-align: top;\n",
       "    }\n",
       "\n",
       "    .dataframe thead th {\n",
       "        text-align: right;\n",
       "    }\n",
       "</style>\n",
       "<table border=\"1\" class=\"dataframe\">\n",
       "  <thead>\n",
       "    <tr style=\"text-align: right;\">\n",
       "      <th></th>\n",
       "      <th>id</th>\n",
       "      <th>name</th>\n",
       "      <th>birth_year</th>\n",
       "      <th>eye_color</th>\n",
       "      <th>gender</th>\n",
       "      <th>hair_color</th>\n",
       "      <th>height</th>\n",
       "      <th>mass</th>\n",
       "      <th>skin_color</th>\n",
       "    </tr>\n",
       "  </thead>\n",
       "  <tbody>\n",
       "    <tr>\n",
       "      <th>0</th>\n",
       "      <td>1</td>\n",
       "      <td>Luke Skywalker</td>\n",
       "      <td>19BBY</td>\n",
       "      <td>blue</td>\n",
       "      <td>male</td>\n",
       "      <td>blond</td>\n",
       "      <td>172</td>\n",
       "      <td>77</td>\n",
       "      <td>fair</td>\n",
       "    </tr>\n",
       "  </tbody>\n",
       "</table>\n",
       "</div>"
      ],
      "text/plain": [
       "   id            name birth_year eye_color gender hair_color height mass  \\\n",
       "0   1  Luke Skywalker      19BBY      blue   male      blond    172   77   \n",
       "\n",
       "  skin_color  \n",
       "0       fair  "
      ]
     },
     "metadata": {},
     "output_type": "display_data"
    },
    {
     "data": {
      "text/plain": [
       "'films'"
      ]
     },
     "metadata": {},
     "output_type": "display_data"
    },
    {
     "data": {
      "text/html": [
       "<div>\n",
       "<style scoped>\n",
       "    .dataframe tbody tr th:only-of-type {\n",
       "        vertical-align: middle;\n",
       "    }\n",
       "\n",
       "    .dataframe tbody tr th {\n",
       "        vertical-align: top;\n",
       "    }\n",
       "\n",
       "    .dataframe thead th {\n",
       "        text-align: right;\n",
       "    }\n",
       "</style>\n",
       "<table border=\"1\" class=\"dataframe\">\n",
       "  <thead>\n",
       "    <tr style=\"text-align: right;\">\n",
       "      <th></th>\n",
       "      <th>id</th>\n",
       "      <th>title</th>\n",
       "      <th>episode_id</th>\n",
       "      <th>opening_crawl</th>\n",
       "      <th>director</th>\n",
       "      <th>producer</th>\n",
       "      <th>release_date</th>\n",
       "    </tr>\n",
       "  </thead>\n",
       "  <tbody>\n",
       "    <tr>\n",
       "      <th>0</th>\n",
       "      <td>1</td>\n",
       "      <td>A New Hope</td>\n",
       "      <td>4</td>\n",
       "      <td>It is a period of civil war.\\r\\nRebel spaceshi...</td>\n",
       "      <td>George Lucas</td>\n",
       "      <td>Gary Kurtz, Rick McCallum</td>\n",
       "      <td>1977-05-25</td>\n",
       "    </tr>\n",
       "  </tbody>\n",
       "</table>\n",
       "</div>"
      ],
      "text/plain": [
       "   id       title  episode_id  \\\n",
       "0   1  A New Hope           4   \n",
       "\n",
       "                                       opening_crawl      director  \\\n",
       "0  It is a period of civil war.\\r\\nRebel spaceshi...  George Lucas   \n",
       "\n",
       "                    producer release_date  \n",
       "0  Gary Kurtz, Rick McCallum   1977-05-25  "
      ]
     },
     "metadata": {},
     "output_type": "display_data"
    },
    {
     "data": {
      "text/plain": [
       "'starships'"
      ]
     },
     "metadata": {},
     "output_type": "display_data"
    },
    {
     "data": {
      "text/html": [
       "<div>\n",
       "<style scoped>\n",
       "    .dataframe tbody tr th:only-of-type {\n",
       "        vertical-align: middle;\n",
       "    }\n",
       "\n",
       "    .dataframe tbody tr th {\n",
       "        vertical-align: top;\n",
       "    }\n",
       "\n",
       "    .dataframe thead th {\n",
       "        text-align: right;\n",
       "    }\n",
       "</style>\n",
       "<table border=\"1\" class=\"dataframe\">\n",
       "  <thead>\n",
       "    <tr style=\"text-align: right;\">\n",
       "      <th></th>\n",
       "      <th>id</th>\n",
       "      <th>name</th>\n",
       "      <th>model</th>\n",
       "      <th>starship_class</th>\n",
       "      <th>manufacturer</th>\n",
       "      <th>cost_in_credits</th>\n",
       "      <th>length</th>\n",
       "      <th>crew</th>\n",
       "      <th>passengers</th>\n",
       "      <th>max_atmosphering_speed</th>\n",
       "      <th>hyperdrive_rating</th>\n",
       "      <th>MGLT</th>\n",
       "      <th>cargo_capacity</th>\n",
       "      <th>consumables</th>\n",
       "    </tr>\n",
       "  </thead>\n",
       "  <tbody>\n",
       "    <tr>\n",
       "      <th>0</th>\n",
       "      <td>2</td>\n",
       "      <td>CR90 corvette</td>\n",
       "      <td>CR90 corvette</td>\n",
       "      <td>corvette</td>\n",
       "      <td>Corellian Engineering Corporation</td>\n",
       "      <td>3500000</td>\n",
       "      <td>150</td>\n",
       "      <td>30-165</td>\n",
       "      <td>600</td>\n",
       "      <td>950</td>\n",
       "      <td>2.0</td>\n",
       "      <td>60</td>\n",
       "      <td>3000000</td>\n",
       "      <td>1 year</td>\n",
       "    </tr>\n",
       "  </tbody>\n",
       "</table>\n",
       "</div>"
      ],
      "text/plain": [
       "   id           name          model starship_class  \\\n",
       "0   2  CR90 corvette  CR90 corvette       corvette   \n",
       "\n",
       "                        manufacturer cost_in_credits length    crew  \\\n",
       "0  Corellian Engineering Corporation         3500000    150  30-165   \n",
       "\n",
       "  passengers max_atmosphering_speed hyperdrive_rating MGLT cargo_capacity  \\\n",
       "0        600                    950               2.0   60        3000000   \n",
       "\n",
       "  consumables  \n",
       "0      1 year  "
      ]
     },
     "metadata": {},
     "output_type": "display_data"
    },
    {
     "data": {
      "text/plain": [
       "'vehicles'"
      ]
     },
     "metadata": {},
     "output_type": "display_data"
    },
    {
     "data": {
      "text/html": [
       "<div>\n",
       "<style scoped>\n",
       "    .dataframe tbody tr th:only-of-type {\n",
       "        vertical-align: middle;\n",
       "    }\n",
       "\n",
       "    .dataframe tbody tr th {\n",
       "        vertical-align: top;\n",
       "    }\n",
       "\n",
       "    .dataframe thead th {\n",
       "        text-align: right;\n",
       "    }\n",
       "</style>\n",
       "<table border=\"1\" class=\"dataframe\">\n",
       "  <thead>\n",
       "    <tr style=\"text-align: right;\">\n",
       "      <th></th>\n",
       "      <th>id</th>\n",
       "      <th>name</th>\n",
       "      <th>model</th>\n",
       "      <th>vehicle_class</th>\n",
       "      <th>manufacturer</th>\n",
       "      <th>length</th>\n",
       "      <th>cost_in_credits</th>\n",
       "      <th>crew</th>\n",
       "      <th>passengers</th>\n",
       "      <th>max_atmosphering_speed</th>\n",
       "      <th>cargo_capacity</th>\n",
       "      <th>consumables</th>\n",
       "    </tr>\n",
       "  </thead>\n",
       "  <tbody>\n",
       "    <tr>\n",
       "      <th>0</th>\n",
       "      <td>4</td>\n",
       "      <td>Sand Crawler</td>\n",
       "      <td>Digger Crawler</td>\n",
       "      <td>wheeled</td>\n",
       "      <td>Corellia Mining Corporation</td>\n",
       "      <td>36.8</td>\n",
       "      <td>150000</td>\n",
       "      <td>46</td>\n",
       "      <td>30</td>\n",
       "      <td>30</td>\n",
       "      <td>50000</td>\n",
       "      <td>2 months</td>\n",
       "    </tr>\n",
       "  </tbody>\n",
       "</table>\n",
       "</div>"
      ],
      "text/plain": [
       "   id          name           model vehicle_class  \\\n",
       "0   4  Sand Crawler  Digger Crawler       wheeled   \n",
       "\n",
       "                  manufacturer length cost_in_credits crew passengers  \\\n",
       "0  Corellia Mining Corporation  36.8           150000   46         30   \n",
       "\n",
       "  max_atmosphering_speed cargo_capacity consumables  \n",
       "0                     30          50000    2 months  "
      ]
     },
     "metadata": {},
     "output_type": "display_data"
    },
    {
     "data": {
      "text/plain": [
       "'species'"
      ]
     },
     "metadata": {},
     "output_type": "display_data"
    },
    {
     "data": {
      "text/html": [
       "<div>\n",
       "<style scoped>\n",
       "    .dataframe tbody tr th:only-of-type {\n",
       "        vertical-align: middle;\n",
       "    }\n",
       "\n",
       "    .dataframe tbody tr th {\n",
       "        vertical-align: top;\n",
       "    }\n",
       "\n",
       "    .dataframe thead th {\n",
       "        text-align: right;\n",
       "    }\n",
       "</style>\n",
       "<table border=\"1\" class=\"dataframe\">\n",
       "  <thead>\n",
       "    <tr style=\"text-align: right;\">\n",
       "      <th></th>\n",
       "      <th>id</th>\n",
       "      <th>name</th>\n",
       "      <th>average_height</th>\n",
       "      <th>average_lifespan</th>\n",
       "      <th>classification</th>\n",
       "      <th>designation</th>\n",
       "      <th>eye_colors</th>\n",
       "      <th>hair_colors</th>\n",
       "      <th>homeworld</th>\n",
       "      <th>language</th>\n",
       "      <th>skin_colors</th>\n",
       "    </tr>\n",
       "  </thead>\n",
       "  <tbody>\n",
       "    <tr>\n",
       "      <th>0</th>\n",
       "      <td>1</td>\n",
       "      <td>Human</td>\n",
       "      <td>180</td>\n",
       "      <td>120</td>\n",
       "      <td>mammal</td>\n",
       "      <td>sentient</td>\n",
       "      <td>brown, blue, green, hazel, grey, amber</td>\n",
       "      <td>blonde, brown, black, red</td>\n",
       "      <td>https://swapi.dev/api/planets/9/</td>\n",
       "      <td>Galactic Basic</td>\n",
       "      <td>caucasian, black, asian, hispanic</td>\n",
       "    </tr>\n",
       "  </tbody>\n",
       "</table>\n",
       "</div>"
      ],
      "text/plain": [
       "   id   name average_height average_lifespan classification designation  \\\n",
       "0   1  Human            180              120         mammal    sentient   \n",
       "\n",
       "                               eye_colors                hair_colors  \\\n",
       "0  brown, blue, green, hazel, grey, amber  blonde, brown, black, red   \n",
       "\n",
       "                          homeworld        language  \\\n",
       "0  https://swapi.dev/api/planets/9/  Galactic Basic   \n",
       "\n",
       "                         skin_colors  \n",
       "0  caucasian, black, asian, hispanic  "
      ]
     },
     "metadata": {},
     "output_type": "display_data"
    },
    {
     "data": {
      "text/plain": [
       "'planets'"
      ]
     },
     "metadata": {},
     "output_type": "display_data"
    },
    {
     "data": {
      "text/html": [
       "<div>\n",
       "<style scoped>\n",
       "    .dataframe tbody tr th:only-of-type {\n",
       "        vertical-align: middle;\n",
       "    }\n",
       "\n",
       "    .dataframe tbody tr th {\n",
       "        vertical-align: top;\n",
       "    }\n",
       "\n",
       "    .dataframe thead th {\n",
       "        text-align: right;\n",
       "    }\n",
       "</style>\n",
       "<table border=\"1\" class=\"dataframe\">\n",
       "  <thead>\n",
       "    <tr style=\"text-align: right;\">\n",
       "      <th></th>\n",
       "      <th>id</th>\n",
       "      <th>name</th>\n",
       "      <th>diameter</th>\n",
       "      <th>rotation_period</th>\n",
       "      <th>orbital_period</th>\n",
       "      <th>gravity</th>\n",
       "      <th>population</th>\n",
       "      <th>climate</th>\n",
       "      <th>terrain</th>\n",
       "      <th>surface_water</th>\n",
       "    </tr>\n",
       "  </thead>\n",
       "  <tbody>\n",
       "    <tr>\n",
       "      <th>0</th>\n",
       "      <td>1</td>\n",
       "      <td>Tatooine</td>\n",
       "      <td>10465</td>\n",
       "      <td>23</td>\n",
       "      <td>304</td>\n",
       "      <td>1 standard</td>\n",
       "      <td>200000</td>\n",
       "      <td>arid</td>\n",
       "      <td>desert</td>\n",
       "      <td>1</td>\n",
       "    </tr>\n",
       "  </tbody>\n",
       "</table>\n",
       "</div>"
      ],
      "text/plain": [
       "   id      name diameter rotation_period orbital_period     gravity  \\\n",
       "0   1  Tatooine    10465              23            304  1 standard   \n",
       "\n",
       "  population climate terrain surface_water  \n",
       "0     200000    arid  desert             1  "
      ]
     },
     "metadata": {},
     "output_type": "display_data"
    }
   ],
   "source": [
    "# take a look at the stored tables\n",
    "tables = ['people', 'films', 'starships', 'vehicles', 'species', 'planets']\n",
    "\n",
    "for table in tables:\n",
    "    display(table)\n",
    "    display(pd.read_sql(f'SELECT * FROM {table} LIMIT 1', conn))"
   ]
  },
  {
   "cell_type": "code",
   "execution_count": 5,
   "metadata": {},
   "outputs": [
    {
     "data": {
      "text/plain": [
       "'people_films'"
      ]
     },
     "metadata": {},
     "output_type": "display_data"
    },
    {
     "data": {
      "text/html": [
       "<div>\n",
       "<style scoped>\n",
       "    .dataframe tbody tr th:only-of-type {\n",
       "        vertical-align: middle;\n",
       "    }\n",
       "\n",
       "    .dataframe tbody tr th {\n",
       "        vertical-align: top;\n",
       "    }\n",
       "\n",
       "    .dataframe thead th {\n",
       "        text-align: right;\n",
       "    }\n",
       "</style>\n",
       "<table border=\"1\" class=\"dataframe\">\n",
       "  <thead>\n",
       "    <tr style=\"text-align: right;\">\n",
       "      <th></th>\n",
       "      <th>person_id</th>\n",
       "      <th>film_id</th>\n",
       "    </tr>\n",
       "  </thead>\n",
       "  <tbody>\n",
       "    <tr>\n",
       "      <th>0</th>\n",
       "      <td>1</td>\n",
       "      <td>1</td>\n",
       "    </tr>\n",
       "  </tbody>\n",
       "</table>\n",
       "</div>"
      ],
      "text/plain": [
       "   person_id  film_id\n",
       "0          1        1"
      ]
     },
     "metadata": {},
     "output_type": "display_data"
    },
    {
     "data": {
      "text/plain": [
       "'people_species'"
      ]
     },
     "metadata": {},
     "output_type": "display_data"
    },
    {
     "data": {
      "text/html": [
       "<div>\n",
       "<style scoped>\n",
       "    .dataframe tbody tr th:only-of-type {\n",
       "        vertical-align: middle;\n",
       "    }\n",
       "\n",
       "    .dataframe tbody tr th {\n",
       "        vertical-align: top;\n",
       "    }\n",
       "\n",
       "    .dataframe thead th {\n",
       "        text-align: right;\n",
       "    }\n",
       "</style>\n",
       "<table border=\"1\" class=\"dataframe\">\n",
       "  <thead>\n",
       "    <tr style=\"text-align: right;\">\n",
       "      <th></th>\n",
       "      <th>person_id</th>\n",
       "      <th>specie_id</th>\n",
       "    </tr>\n",
       "  </thead>\n",
       "  <tbody>\n",
       "    <tr>\n",
       "      <th>0</th>\n",
       "      <td>1</td>\n",
       "      <td>1</td>\n",
       "    </tr>\n",
       "  </tbody>\n",
       "</table>\n",
       "</div>"
      ],
      "text/plain": [
       "   person_id  specie_id\n",
       "0          1          1"
      ]
     },
     "metadata": {},
     "output_type": "display_data"
    },
    {
     "data": {
      "text/plain": [
       "'people_starships'"
      ]
     },
     "metadata": {},
     "output_type": "display_data"
    },
    {
     "data": {
      "text/html": [
       "<div>\n",
       "<style scoped>\n",
       "    .dataframe tbody tr th:only-of-type {\n",
       "        vertical-align: middle;\n",
       "    }\n",
       "\n",
       "    .dataframe tbody tr th {\n",
       "        vertical-align: top;\n",
       "    }\n",
       "\n",
       "    .dataframe thead th {\n",
       "        text-align: right;\n",
       "    }\n",
       "</style>\n",
       "<table border=\"1\" class=\"dataframe\">\n",
       "  <thead>\n",
       "    <tr style=\"text-align: right;\">\n",
       "      <th></th>\n",
       "      <th>person_id</th>\n",
       "      <th>starship_id</th>\n",
       "    </tr>\n",
       "  </thead>\n",
       "  <tbody>\n",
       "    <tr>\n",
       "      <th>0</th>\n",
       "      <td>1</td>\n",
       "      <td>12</td>\n",
       "    </tr>\n",
       "  </tbody>\n",
       "</table>\n",
       "</div>"
      ],
      "text/plain": [
       "   person_id  starship_id\n",
       "0          1           12"
      ]
     },
     "metadata": {},
     "output_type": "display_data"
    },
    {
     "data": {
      "text/plain": [
       "'people_vehicles'"
      ]
     },
     "metadata": {},
     "output_type": "display_data"
    },
    {
     "data": {
      "text/html": [
       "<div>\n",
       "<style scoped>\n",
       "    .dataframe tbody tr th:only-of-type {\n",
       "        vertical-align: middle;\n",
       "    }\n",
       "\n",
       "    .dataframe tbody tr th {\n",
       "        vertical-align: top;\n",
       "    }\n",
       "\n",
       "    .dataframe thead th {\n",
       "        text-align: right;\n",
       "    }\n",
       "</style>\n",
       "<table border=\"1\" class=\"dataframe\">\n",
       "  <thead>\n",
       "    <tr style=\"text-align: right;\">\n",
       "      <th></th>\n",
       "      <th>person_id</th>\n",
       "      <th>vehicle_id</th>\n",
       "    </tr>\n",
       "  </thead>\n",
       "  <tbody>\n",
       "    <tr>\n",
       "      <th>0</th>\n",
       "      <td>1</td>\n",
       "      <td>14</td>\n",
       "    </tr>\n",
       "  </tbody>\n",
       "</table>\n",
       "</div>"
      ],
      "text/plain": [
       "   person_id  vehicle_id\n",
       "0          1          14"
      ]
     },
     "metadata": {},
     "output_type": "display_data"
    },
    {
     "data": {
      "text/plain": [
       "'people_planets'"
      ]
     },
     "metadata": {},
     "output_type": "display_data"
    },
    {
     "data": {
      "text/html": [
       "<div>\n",
       "<style scoped>\n",
       "    .dataframe tbody tr th:only-of-type {\n",
       "        vertical-align: middle;\n",
       "    }\n",
       "\n",
       "    .dataframe tbody tr th {\n",
       "        vertical-align: top;\n",
       "    }\n",
       "\n",
       "    .dataframe thead th {\n",
       "        text-align: right;\n",
       "    }\n",
       "</style>\n",
       "<table border=\"1\" class=\"dataframe\">\n",
       "  <thead>\n",
       "    <tr style=\"text-align: right;\">\n",
       "      <th></th>\n",
       "      <th>person_id</th>\n",
       "      <th>planet_id</th>\n",
       "    </tr>\n",
       "  </thead>\n",
       "  <tbody>\n",
       "    <tr>\n",
       "      <th>0</th>\n",
       "      <td>1</td>\n",
       "      <td>1</td>\n",
       "    </tr>\n",
       "  </tbody>\n",
       "</table>\n",
       "</div>"
      ],
      "text/plain": [
       "   person_id  planet_id\n",
       "0          1          1"
      ]
     },
     "metadata": {},
     "output_type": "display_data"
    }
   ],
   "source": [
    "connection_table = [\"people_films\", \"people_species\",\"people_starships\",\"people_vehicles\", \"people_planets\"]\n",
    "for item in connection_table:\n",
    "    display(item)\n",
    "    display(pd.read_sql(f'SELECT * FROM {item} LIMIT 1', conn))\n",
    "    "
   ]
  },
  {
   "cell_type": "markdown",
   "metadata": {},
   "source": [
    "## 1. Required SQL analysis"
   ]
  },
  {
   "cell_type": "markdown",
   "metadata": {},
   "source": [
    "### 1.1 What’s the average height and mass for characters appear in each film\n",
    "- Requirement: `1 request with INNER`\n",
    "- Explanation: By using INNER JOIN, we can return the occurrences of characters in films. Since each character must appear in at least one film, it makes sense to use INNER JOIN here."
   ]
  },
  {
   "cell_type": "code",
   "execution_count": 6,
   "metadata": {},
   "outputs": [
    {
     "data": {
      "text/html": [
       "<div>\n",
       "<style scoped>\n",
       "    .dataframe tbody tr th:only-of-type {\n",
       "        vertical-align: middle;\n",
       "    }\n",
       "\n",
       "    .dataframe tbody tr th {\n",
       "        vertical-align: top;\n",
       "    }\n",
       "\n",
       "    .dataframe thead th {\n",
       "        text-align: right;\n",
       "    }\n",
       "</style>\n",
       "<table border=\"1\" class=\"dataframe\">\n",
       "  <thead>\n",
       "    <tr style=\"text-align: right;\">\n",
       "      <th></th>\n",
       "      <th>film_title</th>\n",
       "      <th>average_height</th>\n",
       "      <th>average_mass</th>\n",
       "    </tr>\n",
       "  </thead>\n",
       "  <tbody>\n",
       "    <tr>\n",
       "      <th>0</th>\n",
       "      <td>A New Hope</td>\n",
       "      <td>170.33</td>\n",
       "      <td>71.67</td>\n",
       "    </tr>\n",
       "    <tr>\n",
       "      <th>1</th>\n",
       "      <td>The Empire Strikes Back</td>\n",
       "      <td>169.25</td>\n",
       "      <td>81.01</td>\n",
       "    </tr>\n",
       "    <tr>\n",
       "      <th>2</th>\n",
       "      <td>Return of the Jedi</td>\n",
       "      <td>153.80</td>\n",
       "      <td>56.81</td>\n",
       "    </tr>\n",
       "    <tr>\n",
       "      <th>3</th>\n",
       "      <td>The Phantom Menace</td>\n",
       "      <td>169.74</td>\n",
       "      <td>41.65</td>\n",
       "    </tr>\n",
       "    <tr>\n",
       "      <th>4</th>\n",
       "      <td>Attack of the Clones</td>\n",
       "      <td>174.95</td>\n",
       "      <td>51.26</td>\n",
       "    </tr>\n",
       "    <tr>\n",
       "      <th>5</th>\n",
       "      <td>Revenge of the Sith</td>\n",
       "      <td>177.76</td>\n",
       "      <td>66.98</td>\n",
       "    </tr>\n",
       "  </tbody>\n",
       "</table>\n",
       "</div>"
      ],
      "text/plain": [
       "                film_title  average_height  average_mass\n",
       "0               A New Hope          170.33         71.67\n",
       "1  The Empire Strikes Back          169.25         81.01\n",
       "2       Return of the Jedi          153.80         56.81\n",
       "3       The Phantom Menace          169.74         41.65\n",
       "4     Attack of the Clones          174.95         51.26\n",
       "5      Revenge of the Sith          177.76         66.98"
      ]
     },
     "execution_count": 6,
     "metadata": {},
     "output_type": "execute_result"
    }
   ],
   "source": [
    "pd.read_sql(\n",
    "    '''\n",
    "\n",
    "    select \n",
    "        f.title as film_title,\n",
    "        round(avg(p.height),2) as average_height,\n",
    "        round(avg(p.mass),2) as average_mass\n",
    "    from \n",
    "        people p\n",
    "    inner join\n",
    "        people_films pf on p.id = pf.person_id\n",
    "    inner join\n",
    "        films f on pf.film_id = f.id\n",
    "    group by\n",
    "        f.id,\n",
    "        f.title\n",
    "\n",
    "    ''', \n",
    "    conn\n",
    ")"
   ]
  },
  {
   "cell_type": "markdown",
   "metadata": {},
   "source": [
    "### 1.2 Who has the highest occurence in terms of being a pilot\n",
    "- Requirment: `1 request with LEFT`\n",
    "- Explanation: By using LEFT JOIN, we can return all people, regardless of whether they are pilots of vehicles or starships. This approach ensures that we include everyone in the results, not just those who have piloted vehicles or starships."
   ]
  },
  {
   "cell_type": "code",
   "execution_count": 7,
   "metadata": {},
   "outputs": [
    {
     "data": {
      "text/html": [
       "<div>\n",
       "<style scoped>\n",
       "    .dataframe tbody tr th:only-of-type {\n",
       "        vertical-align: middle;\n",
       "    }\n",
       "\n",
       "    .dataframe tbody tr th {\n",
       "        vertical-align: top;\n",
       "    }\n",
       "\n",
       "    .dataframe thead th {\n",
       "        text-align: right;\n",
       "    }\n",
       "</style>\n",
       "<table border=\"1\" class=\"dataframe\">\n",
       "  <thead>\n",
       "    <tr style=\"text-align: right;\">\n",
       "      <th></th>\n",
       "      <th>name</th>\n",
       "      <th>total_occurence</th>\n",
       "      <th>starships_occurence</th>\n",
       "      <th>starship_names</th>\n",
       "      <th>vehicle_occurence</th>\n",
       "      <th>vehicle_names</th>\n",
       "    </tr>\n",
       "  </thead>\n",
       "  <tbody>\n",
       "    <tr>\n",
       "      <th>0</th>\n",
       "      <td>Palpatine</td>\n",
       "      <td>10</td>\n",
       "      <td>5</td>\n",
       "      <td>CR90 corvette, Star Destroyer, Sentinel-class ...</td>\n",
       "      <td>5</td>\n",
       "      <td>Sand Crawler, T-16 skyhopper</td>\n",
       "    </tr>\n",
       "    <tr>\n",
       "      <th>1</th>\n",
       "      <td>Padmé Amidala</td>\n",
       "      <td>6</td>\n",
       "      <td>3</td>\n",
       "      <td>Naboo fighter, H-type Nubian yacht, Naboo star...</td>\n",
       "      <td>3</td>\n",
       "      <td>Sand Crawler, T-16 skyhopper</td>\n",
       "    </tr>\n",
       "    <tr>\n",
       "      <th>2</th>\n",
       "      <td>Owen Lars</td>\n",
       "      <td>6</td>\n",
       "      <td>3</td>\n",
       "      <td>Sentinel-class landing craft</td>\n",
       "      <td>3</td>\n",
       "      <td>T-16 skyhopper</td>\n",
       "    </tr>\n",
       "    <tr>\n",
       "      <th>3</th>\n",
       "      <td>Obi-Wan Kenobi</td>\n",
       "      <td>6</td>\n",
       "      <td>5</td>\n",
       "      <td>Jedi starfighter, Trade Federation cruiser, Na...</td>\n",
       "      <td>1</td>\n",
       "      <td>Tribubble bongo</td>\n",
       "    </tr>\n",
       "    <tr>\n",
       "      <th>4</th>\n",
       "      <td>Mace Windu</td>\n",
       "      <td>6</td>\n",
       "      <td>3</td>\n",
       "      <td>Sentinel-class landing craft</td>\n",
       "      <td>3</td>\n",
       "      <td>Sand Crawler, T-16 skyhopper</td>\n",
       "    </tr>\n",
       "  </tbody>\n",
       "</table>\n",
       "</div>"
      ],
      "text/plain": [
       "             name  total_occurence  starships_occurence  \\\n",
       "0       Palpatine               10                    5   \n",
       "1   Padmé Amidala                6                    3   \n",
       "2       Owen Lars                6                    3   \n",
       "3  Obi-Wan Kenobi                6                    5   \n",
       "4      Mace Windu                6                    3   \n",
       "\n",
       "                                      starship_names  vehicle_occurence  \\\n",
       "0  CR90 corvette, Star Destroyer, Sentinel-class ...                  5   \n",
       "1  Naboo fighter, H-type Nubian yacht, Naboo star...                  3   \n",
       "2                       Sentinel-class landing craft                  3   \n",
       "3  Jedi starfighter, Trade Federation cruiser, Na...                  1   \n",
       "4                       Sentinel-class landing craft                  3   \n",
       "\n",
       "                  vehicle_names  \n",
       "0  Sand Crawler, T-16 skyhopper  \n",
       "1  Sand Crawler, T-16 skyhopper  \n",
       "2                T-16 skyhopper  \n",
       "3               Tribubble bongo  \n",
       "4  Sand Crawler, T-16 skyhopper  "
      ]
     },
     "execution_count": 7,
     "metadata": {},
     "output_type": "execute_result"
    }
   ],
   "source": [
    "pd.read_sql(\n",
    "    '''\n",
    "    with people_starships_table as (\n",
    "        select \n",
    "            p.id,\n",
    "            p.name,\n",
    "            count(p.name) as starships_occurence,\n",
    "            group_concat(s.name, \", \") as starship_names\n",
    "        from \n",
    "            people p\n",
    "        left join \n",
    "            people_starships ps on p.id = ps.person_id\n",
    "        left join\n",
    "            starships s on ps.starship_id = s.id\n",
    "        group by\n",
    "            p.id,\n",
    "            p.name\n",
    "    ),\n",
    "\n",
    "    people_vehicles_table as (\n",
    "        select \n",
    "            p.id,\n",
    "            p.name,\n",
    "            count(p.name) as vehicle_occurence,\n",
    "            group_concat(v.name, \", \") as vehicle_names\n",
    "        from \n",
    "            people p\n",
    "        left join \n",
    "            people_vehicles pv on p.id = pv.person_id\n",
    "        left join\n",
    "            vehicles v on pv.vehicle_id = v.id\n",
    "        group by\n",
    "            p.id,\n",
    "            p.name\n",
    "    )\n",
    "\n",
    "    select \n",
    "        p.name as name,\n",
    "        (ifnull(ps.starships_occurence, 0) + ifnull(pv.vehicle_occurence, 0)) as total_occurence,\n",
    "        ps.starships_occurence,\n",
    "        ps.starship_names,\n",
    "        pv.vehicle_occurence,\n",
    "        pv.vehicle_names\n",
    "    from \n",
    "        people p\n",
    "    left join\n",
    "        people_starships_table ps on p.id = ps.id\n",
    "    left join \n",
    "        people_vehicles_table pv on p.id = pv.id\n",
    "    group by\n",
    "        p.name\n",
    "    order by\n",
    "        total_occurence desc\n",
    "    limit 5\n",
    "\n",
    "\n",
    "    ''', \n",
    "    conn\n",
    ")"
   ]
  },
  {
   "cell_type": "markdown",
   "metadata": {},
   "source": [
    "### 1.3 1.3 Who are the pilots that could operate the fastest model starships?\n",
    "- Requirement: 1 request with GROUP BY\n",
    "- Explanation: By using GROUP BY, we can categorize the pilots based on the starship. We also categorize starship model speed. This allows us to identify and analyze the pilots capable of operating the starships with the highest speeds within each category or model."
   ]
  },
  {
   "cell_type": "code",
   "execution_count": 8,
   "metadata": {},
   "outputs": [
    {
     "data": {
      "text/html": [
       "<div>\n",
       "<style scoped>\n",
       "    .dataframe tbody tr th:only-of-type {\n",
       "        vertical-align: middle;\n",
       "    }\n",
       "\n",
       "    .dataframe tbody tr th {\n",
       "        vertical-align: top;\n",
       "    }\n",
       "\n",
       "    .dataframe thead th {\n",
       "        text-align: right;\n",
       "    }\n",
       "</style>\n",
       "<table border=\"1\" class=\"dataframe\">\n",
       "  <thead>\n",
       "    <tr style=\"text-align: right;\">\n",
       "      <th></th>\n",
       "      <th>pilot_name</th>\n",
       "      <th>model</th>\n",
       "      <th>average_speed</th>\n",
       "    </tr>\n",
       "  </thead>\n",
       "  <tbody>\n",
       "    <tr>\n",
       "      <th>0</th>\n",
       "      <td>Padmé Amidala</td>\n",
       "      <td>H-type Nubian yacht</td>\n",
       "      <td>8000</td>\n",
       "    </tr>\n",
       "    <tr>\n",
       "      <th>1</th>\n",
       "      <td>Anakin Skywalker</td>\n",
       "      <td>Eta-2 Actis-class light interceptor</td>\n",
       "      <td>1500</td>\n",
       "    </tr>\n",
       "    <tr>\n",
       "      <th>2</th>\n",
       "      <td>Obi-Wan Kenobi</td>\n",
       "      <td>Eta-2 Actis-class light interceptor</td>\n",
       "      <td>1500</td>\n",
       "    </tr>\n",
       "    <tr>\n",
       "      <th>3</th>\n",
       "      <td>Arvel Crynyd</td>\n",
       "      <td>RZ-1 A-wing Interceptor</td>\n",
       "      <td>1300</td>\n",
       "    </tr>\n",
       "    <tr>\n",
       "      <th>4</th>\n",
       "      <td>Poggle the Lesser</td>\n",
       "      <td>RZ-1 A-wing Interceptor</td>\n",
       "      <td>1300</td>\n",
       "    </tr>\n",
       "  </tbody>\n",
       "</table>\n",
       "</div>"
      ],
      "text/plain": [
       "          pilot_name                                model  average_speed\n",
       "0      Padmé Amidala                  H-type Nubian yacht           8000\n",
       "1   Anakin Skywalker  Eta-2 Actis-class light interceptor           1500\n",
       "2     Obi-Wan Kenobi  Eta-2 Actis-class light interceptor           1500\n",
       "3       Arvel Crynyd              RZ-1 A-wing Interceptor           1300\n",
       "4  Poggle the Lesser              RZ-1 A-wing Interceptor           1300"
      ]
     },
     "execution_count": 8,
     "metadata": {},
     "output_type": "execute_result"
    }
   ],
   "source": [
    "pd.read_sql(\n",
    "    '''\n",
    "    select \n",
    "        p.name as pilot_name,\n",
    "        s.model as model,\n",
    "        cast(avg(s.max_atmosphering_speed) as int) as average_speed\n",
    "    from \n",
    "        people p\n",
    "    left join \n",
    "        people_starships ps on p.id = ps.person_id\n",
    "    left join\n",
    "        starships s on ps.starship_id = s.id\n",
    "    group by\n",
    "        p.name,\n",
    "        s.model\n",
    "    order by\n",
    "        average_speed desc\n",
    "    limit 5\n",
    "\n",
    "    ''', \n",
    "    conn\n",
    ")"
   ]
  },
  {
   "cell_type": "markdown",
   "metadata": {},
   "source": [
    "### 1.4 Find out characters who appear in each movie\n",
    "- Requirement: `1 request with HAVING`\n",
    "- Explanation: By grouping the data by characters and vehicles, we could use HAVING to filter the occurrence"
   ]
  },
  {
   "cell_type": "code",
   "execution_count": 9,
   "metadata": {},
   "outputs": [
    {
     "data": {
      "text/html": [
       "<div>\n",
       "<style scoped>\n",
       "    .dataframe tbody tr th:only-of-type {\n",
       "        vertical-align: middle;\n",
       "    }\n",
       "\n",
       "    .dataframe tbody tr th {\n",
       "        vertical-align: top;\n",
       "    }\n",
       "\n",
       "    .dataframe thead th {\n",
       "        text-align: right;\n",
       "    }\n",
       "</style>\n",
       "<table border=\"1\" class=\"dataframe\">\n",
       "  <thead>\n",
       "    <tr style=\"text-align: right;\">\n",
       "      <th></th>\n",
       "      <th>name</th>\n",
       "      <th>occurence</th>\n",
       "    </tr>\n",
       "  </thead>\n",
       "  <tbody>\n",
       "    <tr>\n",
       "      <th>0</th>\n",
       "      <td>C-3PO</td>\n",
       "      <td>6</td>\n",
       "    </tr>\n",
       "    <tr>\n",
       "      <th>1</th>\n",
       "      <td>R2-D2</td>\n",
       "      <td>6</td>\n",
       "    </tr>\n",
       "    <tr>\n",
       "      <th>2</th>\n",
       "      <td>Obi-Wan Kenobi</td>\n",
       "      <td>6</td>\n",
       "    </tr>\n",
       "  </tbody>\n",
       "</table>\n",
       "</div>"
      ],
      "text/plain": [
       "             name  occurence\n",
       "0           C-3PO          6\n",
       "1           R2-D2          6\n",
       "2  Obi-Wan Kenobi          6"
      ]
     },
     "execution_count": 9,
     "metadata": {},
     "output_type": "execute_result"
    }
   ],
   "source": [
    "pd.read_sql(\n",
    "    '''\n",
    "    select \n",
    "        p.name,\n",
    "        count(distinct f.id) as occurence    \n",
    "    from \n",
    "        people p\n",
    "    join \n",
    "        people_films pf\n",
    "    on \n",
    "        p.id = pf.person_id\n",
    "    join \n",
    "        films f\n",
    "    on \n",
    "        pf.film_id = f.id\n",
    "    group by \n",
    "        p.id,\n",
    "        p.name\n",
    "    having \n",
    "       count(distinct f.id) = (select count(*) from films)\n",
    "    ''', \n",
    "    conn\n",
    ")"
   ]
  },
  {
   "cell_type": "markdown",
   "metadata": {},
   "source": [
    "## 1.5 Find out the oldest person in the Star Wars\n",
    "- Requirment: `1 request with CTE`"
   ]
  },
  {
   "cell_type": "markdown",
   "metadata": {},
   "source": [
    "Before implementing queries, we have checked no one is born ABY."
   ]
  },
  {
   "cell_type": "code",
   "execution_count": 10,
   "metadata": {},
   "outputs": [
    {
     "data": {
      "text/html": [
       "<div>\n",
       "<style scoped>\n",
       "    .dataframe tbody tr th:only-of-type {\n",
       "        vertical-align: middle;\n",
       "    }\n",
       "\n",
       "    .dataframe tbody tr th {\n",
       "        vertical-align: top;\n",
       "    }\n",
       "\n",
       "    .dataframe thead th {\n",
       "        text-align: right;\n",
       "    }\n",
       "</style>\n",
       "<table border=\"1\" class=\"dataframe\">\n",
       "  <thead>\n",
       "    <tr style=\"text-align: right;\">\n",
       "      <th></th>\n",
       "      <th>aby_count</th>\n",
       "    </tr>\n",
       "  </thead>\n",
       "  <tbody>\n",
       "    <tr>\n",
       "      <th>0</th>\n",
       "      <td>0</td>\n",
       "    </tr>\n",
       "  </tbody>\n",
       "</table>\n",
       "</div>"
      ],
      "text/plain": [
       "   aby_count\n",
       "0          0"
      ]
     },
     "execution_count": 10,
     "metadata": {},
     "output_type": "execute_result"
    }
   ],
   "source": [
    "pd.read_sql(\n",
    "    '''\n",
    "        select\n",
    "            count(*) as aby_count\n",
    "        from\n",
    "            people \n",
    "        where birth_year like '%ABY';\n",
    "    ''', \n",
    "    conn\n",
    ")"
   ]
  },
  {
   "cell_type": "markdown",
   "metadata": {},
   "source": [
    "By creating a temporary table, we conver the string `19BBY`, 19 years before the battle of yavin, to 19. And we write another query to return the oldest person's name and age."
   ]
  },
  {
   "cell_type": "code",
   "execution_count": 11,
   "metadata": {},
   "outputs": [
    {
     "data": {
      "text/html": [
       "<div>\n",
       "<style scoped>\n",
       "    .dataframe tbody tr th:only-of-type {\n",
       "        vertical-align: middle;\n",
       "    }\n",
       "\n",
       "    .dataframe tbody tr th {\n",
       "        vertical-align: top;\n",
       "    }\n",
       "\n",
       "    .dataframe thead th {\n",
       "        text-align: right;\n",
       "    }\n",
       "</style>\n",
       "<table border=\"1\" class=\"dataframe\">\n",
       "  <thead>\n",
       "    <tr style=\"text-align: right;\">\n",
       "      <th></th>\n",
       "      <th>name</th>\n",
       "      <th>birth_year</th>\n",
       "    </tr>\n",
       "  </thead>\n",
       "  <tbody>\n",
       "    <tr>\n",
       "      <th>0</th>\n",
       "      <td>Yoda</td>\n",
       "      <td>896</td>\n",
       "    </tr>\n",
       "  </tbody>\n",
       "</table>\n",
       "</div>"
      ],
      "text/plain": [
       "   name  birth_year\n",
       "0  Yoda         896"
      ]
     },
     "execution_count": 11,
     "metadata": {},
     "output_type": "execute_result"
    }
   ],
   "source": [
    "pd.read_sql(\n",
    "    '''\n",
    "        with cleaned_birthyear as (\n",
    "            select \n",
    "                name,\n",
    "                cast(replace(birth_year, 'BBY', '') as integer) as birth_year_bby\n",
    "            from \n",
    "                people\n",
    "            where \n",
    "                birth_year != \"unknown\"\n",
    "        )\n",
    "\n",
    "        select \n",
    "            name,\n",
    "            max(birth_year_bby) as birth_year\n",
    "        from\n",
    "            cleaned_birthyear\n",
    "    ''', \n",
    "    conn\n",
    ")"
   ]
  }
 ],
 "metadata": {
  "kernelspec": {
   "display_name": "Python 3",
   "language": "python",
   "name": "python3"
  },
  "language_info": {
   "codemirror_mode": {
    "name": "ipython",
    "version": 3
   },
   "file_extension": ".py",
   "mimetype": "text/x-python",
   "name": "python",
   "nbconvert_exporter": "python",
   "pygments_lexer": "ipython3",
   "version": "3.11.6"
  },
  "orig_nbformat": 4
 },
 "nbformat": 4,
 "nbformat_minor": 2
}
