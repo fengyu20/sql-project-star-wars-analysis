{
 "cells": [
  {
   "cell_type": "markdown",
   "metadata": {},
   "source": [
    "## 0. Read the Documentation to have a better understanding of the data.\n",
    "\n",
    "1. There are six data resources, including `films`, `people`, `planets`,  `species`, `starships` and `vehicles`. We could use different tables to store these data.  \n",
    "2. Responses are in Json format, where we could get attributes of the `films`, `people` etc."
   ]
  },
  {
   "cell_type": "code",
   "execution_count": 3,
   "metadata": {},
   "outputs": [
    {
     "name": "stdout",
     "output_type": "stream",
     "text": [
      "Defaulting to user installation because normal site-packages is not writeable\n",
      "Requirement already satisfied: requests in /Users/zoe/Library/Python/3.8/lib/python/site-packages (2.5.0)\n",
      "Requirement already satisfied: pandas in /Users/zoe/Library/Python/3.8/lib/python/site-packages (2.0.3)\n",
      "Requirement already satisfied: swapi in /Users/zoe/Library/Python/3.8/lib/python/site-packages (0.1.3)\n",
      "Requirement already satisfied: python-dateutil>=2.8.2 in /Users/zoe/Library/Python/3.8/lib/python/site-packages (from pandas) (2.8.2)\n",
      "Requirement already satisfied: pytz>=2020.1 in /Users/zoe/Library/Python/3.8/lib/python/site-packages (from pandas) (2023.3.post1)\n",
      "Requirement already satisfied: tzdata>=2022.1 in /Users/zoe/Library/Python/3.8/lib/python/site-packages (from pandas) (2023.3)\n",
      "Requirement already satisfied: numpy>=1.20.3 in /Users/zoe/Library/Python/3.8/lib/python/site-packages (from pandas) (1.24.4)\n",
      "Requirement already satisfied: six==1.8.0 in /Users/zoe/Library/Python/3.8/lib/python/site-packages (from swapi) (1.8.0)\n",
      "Requirement already satisfied: ujson==1.33 in /Users/zoe/Library/Python/3.8/lib/python/site-packages (from swapi) (1.33)\n",
      "\n",
      "\u001b[1m[\u001b[0m\u001b[34;49mnotice\u001b[0m\u001b[1;39;49m]\u001b[0m\u001b[39;49m A new release of pip is available: \u001b[0m\u001b[31;49m23.2.1\u001b[0m\u001b[39;49m -> \u001b[0m\u001b[32;49m23.3\u001b[0m\n",
      "\u001b[1m[\u001b[0m\u001b[34;49mnotice\u001b[0m\u001b[1;39;49m]\u001b[0m\u001b[39;49m To update, run: \u001b[0m\u001b[32;49m/Library/Developer/CommandLineTools/usr/bin/python3 -m pip install --upgrade pip\u001b[0m\n"
     ]
    }
   ],
   "source": [
    "# install the required modules\n",
    "! pip install requests pandas"
   ]
  },
  {
   "cell_type": "code",
   "execution_count": 2,
   "metadata": {},
   "outputs": [],
   "source": [
    "# import the required modules\n",
    "import sqlite3\n",
    "import requests\n",
    "import pandas as pd"
   ]
  },
  {
   "cell_type": "markdown",
   "metadata": {},
   "source": [
    "## 1. Store the Star Wars data using API\n",
    "1. Define the data schema for relevant database and tables.\n",
    "2. Get the data from the Star Wars API and store them in the tables."
   ]
  },
  {
   "cell_type": "code",
   "execution_count": 19,
   "metadata": {},
   "outputs": [],
   "source": [
    "# define the data schmea and write relevant SQL statements according to the documentation\n",
    "create_tables = ['''\n",
    "CREATE TABLE IF NOT EXISTS people (\n",
    "    name TEXT PRIMARY KEY,\n",
    "    birth_year TEXT,\n",
    "    eye_color TEXT,\n",
    "    gender TEXT,\n",
    "    hair_color TEXT,\n",
    "    height TEXT,\n",
    "    mass TEXT,\n",
    "    skin_color TEXT,\n",
    "    homeworld TEXT,\n",
    "    url TEXT,\n",
    "    created TEXT,\n",
    "    edited TEXT\n",
    ");\n",
    "''',\n",
    "'''\n",
    "CREATE TABLE IF NOT EXISTS films (\n",
    "    title TEXT PRIMARY KEY,\n",
    "    episode_id INTEGER,\n",
    "    opening_crawl TEXT,\n",
    "    director TEXT,\n",
    "    producer TEXT,\n",
    "    release_date DATE,\n",
    "    url TEXT,\n",
    "    created TEXT,\n",
    "    edited TEXT\n",
    ");\n",
    "''',\n",
    "'''\n",
    "CREATE TABLE IF NOT EXISTS starships (\n",
    "    name TEXT PRIMARY KEY,\n",
    "    model TEXT,\n",
    "    starship_class TEXT,\n",
    "    manufacturer TEXT,\n",
    "    cost_in_credits TEXT,\n",
    "    length TEXT,\n",
    "    crew TEXT,\n",
    "    passengers TEXT,\n",
    "    max_atmosphering_speed TEXT,\n",
    "    hyperdrive_rating TEXT,\n",
    "    MGLT TEXT,\n",
    "    cargo_capacity TEXT,\n",
    "    consumables TEXT,\n",
    "    url TEXT,\n",
    "    created TEXT,\n",
    "    edited TEXT\n",
    ");\n",
    "''',\n",
    "'''\n",
    "CREATE TABLE IF NOT EXISTS vehicles (\n",
    "    name TEXT PRIMARY KEY,\n",
    "    model TEXT,\n",
    "    vehicle_class TEXT,\n",
    "    manufacturer TEXT,\n",
    "    length TEXT,\n",
    "    cost_in_credits TEXT,\n",
    "    crew TEXT,\n",
    "    passengers TEXT,\n",
    "    max_atmosphering_speed TEXT,\n",
    "    cargo_capacity TEXT,\n",
    "    consumables TEXT,\n",
    "    url TEXT,\n",
    "    created TEXT,\n",
    "    edited TEXT\n",
    ");\n",
    "''',\n",
    "'''\n",
    "CREATE TABLE IF NOT EXISTS species (\n",
    "    name TEXT PRIMARY KEY,\n",
    "    average_height TEXT,\n",
    "    average_lifespan TEXT,\n",
    "    classification TEXT,\n",
    "    designation TEXT,\n",
    "    eye_colors TEXT,\n",
    "    hair_colors TEXT,\n",
    "    homeworld TEXT,\n",
    "    language TEXT,\n",
    "    skin_colors TEXT,\n",
    "    url TEXT,\n",
    "    created TEXT,\n",
    "    edited TEXT\n",
    ");\n",
    "''',\n",
    "'''\n",
    "CREATE TABLE IF NOT EXISTS planets (\n",
    "    name TEXT PRIMARY KEY,\n",
    "    diameter TEXT,\n",
    "    rotation_period TEXT,\n",
    "    orbital_period TEXT,\n",
    "    gravity TEXT,\n",
    "    population TEXT,\n",
    "    climate TEXT,\n",
    "    terrain TEXT,\n",
    "    surface_water TEXT,\n",
    "    url TEXT,\n",
    "    created TEXT,\n",
    "    edited TEXT\n",
    ");\n",
    "'''\n",
    "]"
   ]
  },
  {
   "cell_type": "code",
   "execution_count": 21,
   "metadata": {},
   "outputs": [],
   "source": [
    "# connect to the database\n",
    "conn = sqlite3.connect('swapi.db')\n",
    "c = conn.cursor()\n",
    "\n",
    "# create relevant tables\n",
    "for sql_statement in create_tables:\n",
    "    c.execute(sql_statement)\n",
    "\n",
    "conn.commit()"
   ]
  },
  {
   "cell_type": "code",
   "execution_count": null,
   "metadata": {},
   "outputs": [],
   "source": []
  }
 ],
 "metadata": {
  "kernelspec": {
   "display_name": "Python 3",
   "language": "python",
   "name": "python3"
  },
  "language_info": {
   "codemirror_mode": {
    "name": "ipython",
    "version": 3
   },
   "file_extension": ".py",
   "mimetype": "text/x-python",
   "name": "python",
   "nbconvert_exporter": "python",
   "pygments_lexer": "ipython3",
   "version": "3.8.2"
  },
  "orig_nbformat": 4
 },
 "nbformat": 4,
 "nbformat_minor": 2
}
