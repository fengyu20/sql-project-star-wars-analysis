{
 "cells": [
  {
   "cell_type": "markdown",
   "metadata": {},
   "source": [
    "## 0. Read the Documentation to have a better understanding of the data.\n",
    "\n",
    "1. There are six data resources, including `films`, `people`, `planets`,  `species`, `starships` and `vehicles`. We could use different tables to store these data.  \n",
    "2. Responses are in Json format, where we could get attributes of the `films`, `people` etc."
   ]
  },
  {
   "cell_type": "code",
   "execution_count": 3,
   "metadata": {},
   "outputs": [
    {
     "name": "stdout",
     "output_type": "stream",
     "text": [
      "Defaulting to user installation because normal site-packages is not writeable\n",
      "Requirement already satisfied: requests in /Users/zoe/Library/Python/3.8/lib/python/site-packages (2.5.0)\n",
      "Requirement already satisfied: pandas in /Users/zoe/Library/Python/3.8/lib/python/site-packages (2.0.3)\n",
      "Requirement already satisfied: swapi in /Users/zoe/Library/Python/3.8/lib/python/site-packages (0.1.3)\n",
      "Requirement already satisfied: python-dateutil>=2.8.2 in /Users/zoe/Library/Python/3.8/lib/python/site-packages (from pandas) (2.8.2)\n",
      "Requirement already satisfied: pytz>=2020.1 in /Users/zoe/Library/Python/3.8/lib/python/site-packages (from pandas) (2023.3.post1)\n",
      "Requirement already satisfied: tzdata>=2022.1 in /Users/zoe/Library/Python/3.8/lib/python/site-packages (from pandas) (2023.3)\n",
      "Requirement already satisfied: numpy>=1.20.3 in /Users/zoe/Library/Python/3.8/lib/python/site-packages (from pandas) (1.24.4)\n",
      "Requirement already satisfied: six==1.8.0 in /Users/zoe/Library/Python/3.8/lib/python/site-packages (from swapi) (1.8.0)\n",
      "Requirement already satisfied: ujson==1.33 in /Users/zoe/Library/Python/3.8/lib/python/site-packages (from swapi) (1.33)\n",
      "\n",
      "\u001b[1m[\u001b[0m\u001b[34;49mnotice\u001b[0m\u001b[1;39;49m]\u001b[0m\u001b[39;49m A new release of pip is available: \u001b[0m\u001b[31;49m23.2.1\u001b[0m\u001b[39;49m -> \u001b[0m\u001b[32;49m23.3\u001b[0m\n",
      "\u001b[1m[\u001b[0m\u001b[34;49mnotice\u001b[0m\u001b[1;39;49m]\u001b[0m\u001b[39;49m To update, run: \u001b[0m\u001b[32;49m/Library/Developer/CommandLineTools/usr/bin/python3 -m pip install --upgrade pip\u001b[0m\n"
     ]
    }
   ],
   "source": [
    "# install the required modules\n",
    "! pip install requests pandas"
   ]
  },
  {
   "cell_type": "code",
   "execution_count": 2,
   "metadata": {},
   "outputs": [],
   "source": [
    "# import the required modules\n",
    "import sqlite3\n",
    "import requests\n",
    "import pandas as pd"
   ]
  },
  {
   "cell_type": "markdown",
   "metadata": {},
   "source": [
    "## 1. Define the data schema for tables."
   ]
  },
  {
   "cell_type": "code",
   "execution_count": 19,
   "metadata": {},
   "outputs": [],
   "source": [
    "# define the data schmea and write relevant SQL statements according to the documentation\n",
    "create_tables = ['''\n",
    "CREATE TABLE IF NOT EXISTS people (\n",
    "    name TEXT PRIMARY KEY,\n",
    "    birth_year TEXT,\n",
    "    eye_color TEXT,\n",
    "    gender TEXT,\n",
    "    hair_color TEXT,\n",
    "    height TEXT,\n",
    "    mass TEXT,\n",
    "    skin_color TEXT,\n",
    "    homeworld TEXT,\n",
    "    url TEXT,\n",
    "    created TEXT,\n",
    "    edited TEXT\n",
    ");\n",
    "''',\n",
    "'''\n",
    "CREATE TABLE IF NOT EXISTS films (\n",
    "    title TEXT PRIMARY KEY,\n",
    "    episode_id INTEGER,\n",
    "    opening_crawl TEXT,\n",
    "    director TEXT,\n",
    "    producer TEXT,\n",
    "    release_date DATE,\n",
    "    url TEXT,\n",
    "    created TEXT,\n",
    "    edited TEXT\n",
    ");\n",
    "''',\n",
    "'''\n",
    "CREATE TABLE IF NOT EXISTS starships (\n",
    "    name TEXT PRIMARY KEY,\n",
    "    model TEXT,\n",
    "    starship_class TEXT,\n",
    "    manufacturer TEXT,\n",
    "    cost_in_credits TEXT,\n",
    "    length TEXT,\n",
    "    crew TEXT,\n",
    "    passengers TEXT,\n",
    "    max_atmosphering_speed TEXT,\n",
    "    hyperdrive_rating TEXT,\n",
    "    MGLT TEXT,\n",
    "    cargo_capacity TEXT,\n",
    "    consumables TEXT,\n",
    "    url TEXT,\n",
    "    created TEXT,\n",
    "    edited TEXT\n",
    ");\n",
    "''',\n",
    "'''\n",
    "CREATE TABLE IF NOT EXISTS vehicles (\n",
    "    name TEXT PRIMARY KEY,\n",
    "    model TEXT,\n",
    "    vehicle_class TEXT,\n",
    "    manufacturer TEXT,\n",
    "    length TEXT,\n",
    "    cost_in_credits TEXT,\n",
    "    crew TEXT,\n",
    "    passengers TEXT,\n",
    "    max_atmosphering_speed TEXT,\n",
    "    cargo_capacity TEXT,\n",
    "    consumables TEXT,\n",
    "    url TEXT,\n",
    "    created TEXT,\n",
    "    edited TEXT\n",
    ");\n",
    "''',\n",
    "'''\n",
    "CREATE TABLE IF NOT EXISTS species (\n",
    "    name TEXT PRIMARY KEY,\n",
    "    average_height TEXT,\n",
    "    average_lifespan TEXT,\n",
    "    classification TEXT,\n",
    "    designation TEXT,\n",
    "    eye_colors TEXT,\n",
    "    hair_colors TEXT,\n",
    "    homeworld TEXT,\n",
    "    language TEXT,\n",
    "    skin_colors TEXT,\n",
    "    url TEXT,\n",
    "    created TEXT,\n",
    "    edited TEXT\n",
    ");\n",
    "''',\n",
    "'''\n",
    "CREATE TABLE IF NOT EXISTS planets (\n",
    "    name TEXT PRIMARY KEY,\n",
    "    diameter TEXT,\n",
    "    rotation_period TEXT,\n",
    "    orbital_period TEXT,\n",
    "    gravity TEXT,\n",
    "    population TEXT,\n",
    "    climate TEXT,\n",
    "    terrain TEXT,\n",
    "    surface_water TEXT,\n",
    "    url TEXT,\n",
    "    created TEXT,\n",
    "    edited TEXT\n",
    ");\n",
    "'''\n",
    "]"
   ]
  },
  {
   "cell_type": "code",
   "execution_count": 21,
   "metadata": {},
   "outputs": [],
   "source": [
    "# connect to the database\n",
    "conn = sqlite3.connect('swapi.db')\n",
    "c = conn.cursor()\n",
    "\n",
    "# create relevant tables\n",
    "for sql_statement in create_tables:\n",
    "    c.execute(sql_statement)\n",
    "\n",
    "conn.commit()"
   ]
  },
  {
   "cell_type": "markdown",
   "metadata": {},
   "source": [
    "## 2. Get the data from the Star Wars API and store them in local databases."
   ]
  },
  {
   "cell_type": "markdown",
   "metadata": {},
   "source": [
    "### 2.1 Using People as the First Example"
   ]
  },
  {
   "cell_type": "code",
   "execution_count": 28,
   "metadata": {},
   "outputs": [
    {
     "name": "stdout",
     "output_type": "stream",
     "text": [
      "[{'name': 'Luke Skywalker', 'height': '172', 'mass': '77', 'hair_color': 'blond', 'skin_color': 'fair', 'eye_color': 'blue', 'birth_year': '19BBY', 'gender': 'male', 'homeworld': 'https://swapi.dev/api/planets/1/', 'films': ['https://swapi.dev/api/films/1/', 'https://swapi.dev/api/films/2/', 'https://swapi.dev/api/films/3/', 'https://swapi.dev/api/films/6/'], 'species': [], 'vehicles': ['https://swapi.dev/api/vehicles/14/', 'https://swapi.dev/api/vehicles/30/'], 'starships': ['https://swapi.dev/api/starships/12/', 'https://swapi.dev/api/starships/22/'], 'created': '2014-12-09T13:50:51.644000Z', 'edited': '2014-12-20T21:17:56.891000Z', 'url': 'https://swapi.dev/api/people/1/'}, {'name': 'C-3PO', 'height': '167', 'mass': '75', 'hair_color': 'n/a', 'skin_color': 'gold', 'eye_color': 'yellow', 'birth_year': '112BBY', 'gender': 'n/a', 'homeworld': 'https://swapi.dev/api/planets/1/', 'films': ['https://swapi.dev/api/films/1/', 'https://swapi.dev/api/films/2/', 'https://swapi.dev/api/films/3/', 'https://swapi.dev/api/films/4/', 'https://swapi.dev/api/films/5/', 'https://swapi.dev/api/films/6/'], 'species': ['https://swapi.dev/api/species/2/'], 'vehicles': [], 'starships': [], 'created': '2014-12-10T15:10:51.357000Z', 'edited': '2014-12-20T21:17:50.309000Z', 'url': 'https://swapi.dev/api/people/2/'}, {'name': 'R2-D2', 'height': '96', 'mass': '32', 'hair_color': 'n/a', 'skin_color': 'white, blue', 'eye_color': 'red', 'birth_year': '33BBY', 'gender': 'n/a', 'homeworld': 'https://swapi.dev/api/planets/8/', 'films': ['https://swapi.dev/api/films/1/', 'https://swapi.dev/api/films/2/', 'https://swapi.dev/api/films/3/', 'https://swapi.dev/api/films/4/', 'https://swapi.dev/api/films/5/', 'https://swapi.dev/api/films/6/'], 'species': ['https://swapi.dev/api/species/2/'], 'vehicles': [], 'starships': [], 'created': '2014-12-10T15:11:50.376000Z', 'edited': '2014-12-20T21:17:50.311000Z', 'url': 'https://swapi.dev/api/people/3/'}, {'name': 'Darth Vader', 'height': '202', 'mass': '136', 'hair_color': 'none', 'skin_color': 'white', 'eye_color': 'yellow', 'birth_year': '41.9BBY', 'gender': 'male', 'homeworld': 'https://swapi.dev/api/planets/1/', 'films': ['https://swapi.dev/api/films/1/', 'https://swapi.dev/api/films/2/', 'https://swapi.dev/api/films/3/', 'https://swapi.dev/api/films/6/'], 'species': [], 'vehicles': [], 'starships': ['https://swapi.dev/api/starships/13/'], 'created': '2014-12-10T15:18:20.704000Z', 'edited': '2014-12-20T21:17:50.313000Z', 'url': 'https://swapi.dev/api/people/4/'}, {'name': 'Leia Organa', 'height': '150', 'mass': '49', 'hair_color': 'brown', 'skin_color': 'light', 'eye_color': 'brown', 'birth_year': '19BBY', 'gender': 'female', 'homeworld': 'https://swapi.dev/api/planets/2/', 'films': ['https://swapi.dev/api/films/1/', 'https://swapi.dev/api/films/2/', 'https://swapi.dev/api/films/3/', 'https://swapi.dev/api/films/6/'], 'species': [], 'vehicles': ['https://swapi.dev/api/vehicles/30/'], 'starships': [], 'created': '2014-12-10T15:20:09.791000Z', 'edited': '2014-12-20T21:17:50.315000Z', 'url': 'https://swapi.dev/api/people/5/'}, {'name': 'Owen Lars', 'height': '178', 'mass': '120', 'hair_color': 'brown, grey', 'skin_color': 'light', 'eye_color': 'blue', 'birth_year': '52BBY', 'gender': 'male', 'homeworld': 'https://swapi.dev/api/planets/1/', 'films': ['https://swapi.dev/api/films/1/', 'https://swapi.dev/api/films/5/', 'https://swapi.dev/api/films/6/'], 'species': [], 'vehicles': [], 'starships': [], 'created': '2014-12-10T15:52:14.024000Z', 'edited': '2014-12-20T21:17:50.317000Z', 'url': 'https://swapi.dev/api/people/6/'}, {'name': 'Beru Whitesun lars', 'height': '165', 'mass': '75', 'hair_color': 'brown', 'skin_color': 'light', 'eye_color': 'blue', 'birth_year': '47BBY', 'gender': 'female', 'homeworld': 'https://swapi.dev/api/planets/1/', 'films': ['https://swapi.dev/api/films/1/', 'https://swapi.dev/api/films/5/', 'https://swapi.dev/api/films/6/'], 'species': [], 'vehicles': [], 'starships': [], 'created': '2014-12-10T15:53:41.121000Z', 'edited': '2014-12-20T21:17:50.319000Z', 'url': 'https://swapi.dev/api/people/7/'}, {'name': 'R5-D4', 'height': '97', 'mass': '32', 'hair_color': 'n/a', 'skin_color': 'white, red', 'eye_color': 'red', 'birth_year': 'unknown', 'gender': 'n/a', 'homeworld': 'https://swapi.dev/api/planets/1/', 'films': ['https://swapi.dev/api/films/1/'], 'species': ['https://swapi.dev/api/species/2/'], 'vehicles': [], 'starships': [], 'created': '2014-12-10T15:57:50.959000Z', 'edited': '2014-12-20T21:17:50.321000Z', 'url': 'https://swapi.dev/api/people/8/'}, {'name': 'Biggs Darklighter', 'height': '183', 'mass': '84', 'hair_color': 'black', 'skin_color': 'light', 'eye_color': 'brown', 'birth_year': '24BBY', 'gender': 'male', 'homeworld': 'https://swapi.dev/api/planets/1/', 'films': ['https://swapi.dev/api/films/1/'], 'species': [], 'vehicles': [], 'starships': ['https://swapi.dev/api/starships/12/'], 'created': '2014-12-10T15:59:50.509000Z', 'edited': '2014-12-20T21:17:50.323000Z', 'url': 'https://swapi.dev/api/people/9/'}, {'name': 'Obi-Wan Kenobi', 'height': '182', 'mass': '77', 'hair_color': 'auburn, white', 'skin_color': 'fair', 'eye_color': 'blue-gray', 'birth_year': '57BBY', 'gender': 'male', 'homeworld': 'https://swapi.dev/api/planets/20/', 'films': ['https://swapi.dev/api/films/1/', 'https://swapi.dev/api/films/2/', 'https://swapi.dev/api/films/3/', 'https://swapi.dev/api/films/4/', 'https://swapi.dev/api/films/5/', 'https://swapi.dev/api/films/6/'], 'species': [], 'vehicles': ['https://swapi.dev/api/vehicles/38/'], 'starships': ['https://swapi.dev/api/starships/48/', 'https://swapi.dev/api/starships/59/', 'https://swapi.dev/api/starships/64/', 'https://swapi.dev/api/starships/65/', 'https://swapi.dev/api/starships/74/'], 'created': '2014-12-10T16:16:29.192000Z', 'edited': '2014-12-20T21:17:50.325000Z', 'url': 'https://swapi.dev/api/people/10/'}]\n"
     ]
    }
   ],
   "source": [
    "# check the requests output\n",
    "people_response = requests.get('https://swapi.dev/api/people/')\n",
    "people_data = people_response.json()\n",
    "print(people_data['results'])"
   ]
  },
  {
   "cell_type": "markdown",
   "metadata": {},
   "source": [
    "The result is a list of jsons(persons), we could sort them and store them one by one.\n",
    "\n",
    "```\n",
    "{'name': 'Luke Skywalker', 'height': '172', 'mass': '77', 'hair_color': 'blond', 'skin_color': 'fair', 'eye_color': 'blue', 'birth_year': '19BBY', 'gender': 'male', 'homeworld': 'https://swapi.dev/api/planets/1/', 'films': ['https://swapi.dev/api/films/1/', 'https://swapi.dev/api/films/2/', 'https://swapi.dev/api/films/3/', 'https://swapi.dev/api/films/6/'], 'species': [], 'vehicles': ['https://swapi.dev/api/vehicles/14/', 'https://swapi.dev/api/vehicles/30/'], 'starships': ['https://swapi.dev/api/starships/12/', 'https://swapi.dev/api/starships/22/'], 'created': '2014-12-09T13:50:51.644000Z', 'edited': '2014-12-20T21:17:56.891000Z', 'url': 'https://swapi.dev/api/people/1/'}, \n",
    "```"
   ]
  },
  {
   "cell_type": "code",
   "execution_count": 30,
   "metadata": {},
   "outputs": [],
   "source": [
    "def save_to_person(person):\n",
    "    '''\n",
    "    Insert individual person data to the people table.\n",
    "    '''\n",
    "    with sqlite3.connect('swapi.db') as conn:\n",
    "        c = conn.cursor()\n",
    "        c.execute(\"\"\"\n",
    "            INSERT INTO people (name, height, mass, hair_color, skin_color, eye_color, birth_year, gender, homeworld, url, created, edited)\n",
    "            VALUES (?, ?, ?, ?, ?, ?, ?, ?, ?, ?, ?, ?)\n",
    "        \"\"\", (person['name'], person['height'], person['mass'], person['hair_color'], person['skin_color'], person['eye_color'], person['birth_year'], person['gender'], person['homeworld'], person['url'], person['created'], person['edited']))\n",
    "        conn.commit()\n"
   ]
  },
  {
   "cell_type": "code",
   "execution_count": 31,
   "metadata": {},
   "outputs": [],
   "source": [
    "# iterate through the json response and store them into the table\n",
    "for person in people_data['results']:\n",
    "    save_to_person(person)"
   ]
  },
  {
   "cell_type": "code",
   "execution_count": 35,
   "metadata": {},
   "outputs": [
    {
     "name": "stdout",
     "output_type": "stream",
     "text": [
      "[('Luke Skywalker', '19BBY', 'blue', 'male', 'blond', '172', '77', 'fair', 'https://swapi.dev/api/planets/1/', 'https://swapi.dev/api/people/1/', '2014-12-09T13:50:51.644000Z', '2014-12-20T21:17:56.891000Z'), ('C-3PO', '112BBY', 'yellow', 'n/a', 'n/a', '167', '75', 'gold', 'https://swapi.dev/api/planets/1/', 'https://swapi.dev/api/people/2/', '2014-12-10T15:10:51.357000Z', '2014-12-20T21:17:50.309000Z'), ('R2-D2', '33BBY', 'red', 'n/a', 'n/a', '96', '32', 'white, blue', 'https://swapi.dev/api/planets/8/', 'https://swapi.dev/api/people/3/', '2014-12-10T15:11:50.376000Z', '2014-12-20T21:17:50.311000Z'), ('Darth Vader', '41.9BBY', 'yellow', 'male', 'none', '202', '136', 'white', 'https://swapi.dev/api/planets/1/', 'https://swapi.dev/api/people/4/', '2014-12-10T15:18:20.704000Z', '2014-12-20T21:17:50.313000Z'), ('Leia Organa', '19BBY', 'brown', 'female', 'brown', '150', '49', 'light', 'https://swapi.dev/api/planets/2/', 'https://swapi.dev/api/people/5/', '2014-12-10T15:20:09.791000Z', '2014-12-20T21:17:50.315000Z')]\n"
     ]
    }
   ],
   "source": [
    "# check if we have already store it correctly\n",
    "c = conn.cursor()\n",
    "check_data = c.execute(\"SELECT * FROM people LIMIT 5\").fetchall()\n",
    "print(check_data)\n",
    "conn.commit()"
   ]
  },
  {
   "cell_type": "markdown",
   "metadata": {},
   "source": [
    "### 2.2 Extract the Responses and Store the Data to Other Tables."
   ]
  },
  {
   "cell_type": "code",
   "execution_count": null,
   "metadata": {},
   "outputs": [],
   "source": [
    "# check the requests output\n",
    "remain_tables = ['films', 'starships', 'vehicles', 'species', 'planets']\n",
    "people_response = requests.get('https://swapi.dev/api/people/')\n",
    "people_data = people_response.json()\n",
    "print(people_data['results'])"
   ]
  }
 ],
 "metadata": {
  "kernelspec": {
   "display_name": "Python 3",
   "language": "python",
   "name": "python3"
  },
  "language_info": {
   "codemirror_mode": {
    "name": "ipython",
    "version": 3
   },
   "file_extension": ".py",
   "mimetype": "text/x-python",
   "name": "python",
   "nbconvert_exporter": "python",
   "pygments_lexer": "ipython3",
   "version": "3.8.2"
  },
  "orig_nbformat": 4
 },
 "nbformat": 4,
 "nbformat_minor": 2
}
