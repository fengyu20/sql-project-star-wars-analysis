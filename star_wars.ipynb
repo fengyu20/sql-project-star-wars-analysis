{
 "cells": [
  {
   "cell_type": "markdown",
   "metadata": {},
   "source": [
    "## 0. Read the Documentation to have a better understanding of the data.\n",
    "\n",
    "1. There are six data resources, including `films`, `people`, `planets`,  `species`, `starships` and `vehicles`. We could use different tables to store these data.  \n",
    "2. Responses are in Json format, where we could get attributes of the `films`, `people` etc."
   ]
  },
  {
   "cell_type": "code",
   "execution_count": null,
   "metadata": {},
   "outputs": [],
   "source": [
    "# install the required modules\n",
    "! pip install requests pandas"
   ]
  },
  {
   "cell_type": "code",
   "execution_count": null,
   "metadata": {},
   "outputs": [],
   "source": [
    "# import the required modules\n",
    "import sqlite3\n",
    "import requests\n",
    "import pandas as pd\n",
    "import json"
   ]
  },
  {
   "cell_type": "markdown",
   "metadata": {},
   "source": [
    "## 1. Define the data schema for tables."
   ]
  },
  {
   "cell_type": "code",
   "execution_count": null,
   "metadata": {},
   "outputs": [],
   "source": [
    "# define the data schmea and write relevant SQL statements according to the documentation\n",
    "create_tables = ['''\n",
    "CREATE TABLE IF NOT EXISTS people (\n",
    "    name TEXT PRIMARY KEY,\n",
    "    birth_year TEXT,\n",
    "    eye_color TEXT,\n",
    "    gender TEXT,\n",
    "    hair_color TEXT,\n",
    "    height TEXT,\n",
    "    mass TEXT,\n",
    "    skin_color TEXT,\n",
    "    homeworld TEXT,\n",
    "    films TEXT, \n",
    "    species TEXT,\n",
    "    starships TEXT,\n",
    "    vehicles TEXT,\n",
    "    url TEXT,\n",
    "    created TEXT,\n",
    "    edited TEXT\n",
    ");\n",
    "''',\n",
    "'''\n",
    "CREATE TABLE IF NOT EXISTS films (\n",
    "    title TEXT PRIMARY KEY,\n",
    "    episode_id INTEGER,\n",
    "    opening_crawl TEXT,\n",
    "    director TEXT,\n",
    "    producer TEXT,\n",
    "    release_date DATE,\n",
    "    species TEXT,\n",
    "    starships TEXT,\n",
    "    vehicles TEXT,\n",
    "    characters TEXT, \n",
    "    planets TEXT,\n",
    "    url TEXT,\n",
    "    created TEXT,\n",
    "    edited TEXT\n",
    ");\n",
    "''',\n",
    "'''\n",
    "CREATE TABLE IF NOT EXISTS starships (\n",
    "    name TEXT PRIMARY KEY,\n",
    "    model TEXT,\n",
    "    starship_class TEXT,\n",
    "    manufacturer TEXT,\n",
    "    cost_in_credits TEXT,\n",
    "    length TEXT,\n",
    "    crew TEXT,\n",
    "    passengers TEXT,\n",
    "    max_atmosphering_speed TEXT,\n",
    "    hyperdrive_rating TEXT,\n",
    "    MGLT TEXT,\n",
    "    cargo_capacity TEXT,\n",
    "    consumables TEXT,\n",
    "    films TEXT,\n",
    "    pilots TEXT,\n",
    "    url TEXT,\n",
    "    created TEXT,\n",
    "    edited TEXT\n",
    ");\n",
    "''',\n",
    "'''\n",
    "CREATE TABLE IF NOT EXISTS vehicles (\n",
    "    name TEXT PRIMARY KEY,\n",
    "    model TEXT,\n",
    "    vehicle_class TEXT,\n",
    "    manufacturer TEXT,\n",
    "    length TEXT,\n",
    "    cost_in_credits TEXT,\n",
    "    crew TEXT,\n",
    "    passengers TEXT,\n",
    "    max_atmosphering_speed TEXT,\n",
    "    cargo_capacity TEXT,\n",
    "    consumables TEXT,\n",
    "    films TEXT,\n",
    "    pilots TEXT,\n",
    "    url TEXT,\n",
    "    created TEXT,\n",
    "    edited TEXT\n",
    ");\n",
    "''',\n",
    "'''\n",
    "CREATE TABLE IF NOT EXISTS species (\n",
    "    name TEXT PRIMARY KEY,\n",
    "    average_height TEXT,\n",
    "    average_lifespan TEXT,\n",
    "    classification TEXT,\n",
    "    designation TEXT,\n",
    "    eye_colors TEXT,\n",
    "    hair_colors TEXT,\n",
    "    homeworld TEXT,\n",
    "    language TEXT,\n",
    "    skin_colors TEXT,\n",
    "    people TEXT,\n",
    "    films TEXT,\n",
    "    url TEXT,\n",
    "    created TEXT,\n",
    "    edited TEXT\n",
    ");\n",
    "''',\n",
    "'''\n",
    "CREATE TABLE IF NOT EXISTS planets (\n",
    "    name TEXT PRIMARY KEY,\n",
    "    diameter TEXT,\n",
    "    rotation_period TEXT,\n",
    "    orbital_period TEXT,\n",
    "    gravity TEXT,\n",
    "    population TEXT,\n",
    "    climate TEXT,\n",
    "    terrain TEXT,\n",
    "    surface_water TEXT,\n",
    "    residents TEXT,\n",
    "    films TEXT,\n",
    "    url TEXT,\n",
    "    created TEXT,\n",
    "    edited TEXT\n",
    ");\n",
    "'''\n",
    "]"
   ]
  },
  {
   "cell_type": "code",
   "execution_count": null,
   "metadata": {},
   "outputs": [],
   "source": [
    "# connect to the database\n",
    "conn = sqlite3.connect('star_wars.db')\n",
    "c = conn.cursor()\n",
    "\n",
    "# create relevant tables\n",
    "for sql_statement in create_tables:\n",
    "    c.execute(sql_statement)\n",
    "\n",
    "conn.commit()"
   ]
  },
  {
   "cell_type": "markdown",
   "metadata": {},
   "source": [
    "## 2. Get the data from the Star Wars API and store them in local databases."
   ]
  },
  {
   "cell_type": "markdown",
   "metadata": {},
   "source": [
    "### 2.1 Using People as the First Example"
   ]
  },
  {
   "cell_type": "code",
   "execution_count": null,
   "metadata": {},
   "outputs": [],
   "source": [
    "# check the requests output\n",
    "people_response = requests.get('https://swapi.dev/api/people/')\n",
    "people_data = people_response.json()\n",
    "\n",
    "# there might be several pages for a single data resource\n",
    "all_people_data = []\n",
    "all_people_data.extend(people_data['results'])\n",
    "\n",
    "while people_data[\"next\"]:\n",
    "    people_data = requests.get(people_data[\"next\"]).json()\n",
    "    all_people_data.extend(people_data['results'])\n",
    "\n",
    "print(all_people_data)"
   ]
  },
  {
   "cell_type": "markdown",
   "metadata": {},
   "source": [
    "The result is a list of jsons(persons), we could sort them and store them one by one.\n",
    "\n",
    "```\n",
    "{'name': 'Luke Skywalker', 'height': '172', 'mass': '77', 'hair_color': 'blond', 'skin_color': 'fair', 'eye_color': 'blue', 'birth_year': '19BBY', 'gender': 'male', 'homeworld': 'https://swapi.dev/api/planets/1/', 'films': ['https://swapi.dev/api/films/1/', 'https://swapi.dev/api/films/2/', 'https://swapi.dev/api/films/3/', 'https://swapi.dev/api/films/6/'], 'species': [], 'vehicles': ['https://swapi.dev/api/vehicles/14/', 'https://swapi.dev/api/vehicles/30/'], 'starships': ['https://swapi.dev/api/starships/12/', 'https://swapi.dev/api/starships/22/'], 'created': '2014-12-09T13:50:51.644000Z', 'edited': '2014-12-20T21:17:56.891000Z', 'url': 'https://swapi.dev/api/people/1/'}, \n",
    "```"
   ]
  },
  {
   "cell_type": "code",
   "execution_count": null,
   "metadata": {},
   "outputs": [],
   "source": [
    "# check if we get the right number of the data\n",
    "print(len(all_people_data) == people_data['count']) "
   ]
  },
  {
   "cell_type": "code",
   "execution_count": null,
   "metadata": {},
   "outputs": [],
   "source": [
    "def save_to_person(person):\n",
    "    '''\n",
    "    Insert individual person data to the people table.\n",
    "    '''\n",
    "    with sqlite3.connect('star_wars.db') as conn:\n",
    "        c = conn.cursor()\n",
    "        # avoid duplicates \n",
    "        c.execute(\"SELECT * FROM people WHERE name = ?\", (person['name'],))\n",
    "        if c.fetchone() is None:\n",
    "            c.execute(\"\"\"\n",
    "                INSERT INTO people (name, height, mass, hair_color, skin_color, eye_color, birth_year, gender, homeworld, url, created, edited)\n",
    "                VALUES (?, ?, ?, ?, ?, ?, ?, ?, ?, ?, ?, ?)\n",
    "            \"\"\", (person['name'], person['height'], person['mass'], person['hair_color'], person['skin_color'], person['eye_color'], person['birth_year'], person['gender'], person['homeworld'], person['url'], person['created'], person['edited']))\n",
    "        conn.commit()\n"
   ]
  },
  {
   "cell_type": "code",
   "execution_count": null,
   "metadata": {},
   "outputs": [],
   "source": [
    "# iterate through the json response and store them into the table\n",
    "for person in all_people_data:\n",
    "    save_to_person(person)"
   ]
  },
  {
   "cell_type": "code",
   "execution_count": null,
   "metadata": {},
   "outputs": [],
   "source": [
    "# check if we have already store it correctly by counting the rows in the table\n",
    "conn = sqlite3.connect('star_wars.db')\n",
    "\n",
    "c = conn.cursor()\n",
    "check_data = c.execute(\"SELECT count(*) FROM people\").fetchone()[0]\n",
    "print(check_data)\n"
   ]
  },
  {
   "cell_type": "markdown",
   "metadata": {},
   "source": [
    "### 2.2 Extract the Responses and Store the Data to Other Tables.\n",
    "\n",
    "Follow the \"Don't Repeat Yourself\" principle to write functions that could be reused for other tables."
   ]
  },
  {
   "cell_type": "code",
   "execution_count": null,
   "metadata": {},
   "outputs": [],
   "source": [
    "# save parsing data to tables\n",
    "# dynamic SQL queries are required.\n",
    "def save_to_table(table_name, item):\n",
    "    '''\n",
    "    Insert individual data to the table.\n",
    "\n",
    "    Item is a dict. Sample: {'title': 'A New Hope', 'episode_id': 4, 'opening_crawl': \"It is a period of civil war.\\\n",
    "    '''    \n",
    "    with sqlite3.connect('star_wars.db') as conn:\n",
    "        c = conn.cursor()\n",
    "\n",
    "        # when inserting a list of values, errors occur\n",
    "        # use serialization to convert lists to strings\n",
    "        serialized_item = {k: json.dumps(v) if isinstance(v, list) else v for k, v in item.items()}\n",
    "\n",
    "        # generalize the Insert into and avoid duplicates SQL statement\n",
    "        ### Insert: INSERT INTO people (name, ...) VALUES (?,...)\n",
    "        ### Duplicate: SELECT * FROM people WHERE name = ?, (person['name'],\n",
    "        # variables from the SQL statement: table_name, column_name(the keys of the item), place_holder(\"?\"), primary_key\n",
    "\n",
    "        column_name = ', '.join(serialized_item.keys())\n",
    "        place_holder = ', '.join(['?'] * len(serialized_item))\n",
    "        primary_key, primary_key_value = list(serialized_item.items())[0]\n",
    "\n",
    "        insert_sql = f\"INSERT INTO {table_name} ({column_name}) VALUES ({place_holder})\"\n",
    "        check_sql = f\"SELECT * FROM {table_name} WHERE {primary_key} = ?\"\n",
    "        \n",
    "        c.execute(check_sql, (primary_key_value,))\n",
    "\n",
    "        if c.fetchone() is None:\n",
    "            c.execute(insert_sql, tuple(serialized_item.values()))\n",
    "        conn.commit()\n",
    "\n",
    "    "
   ]
  },
  {
   "cell_type": "code",
   "execution_count": null,
   "metadata": {},
   "outputs": [],
   "source": [
    "# parse the data, store them into the table by calling the funtion\n",
    "tables = ['people', 'films', 'starships', 'vehicles', 'species', 'planets']\n",
    "# tables = ['films'] \n",
    "for table_name in tables:\n",
    "    response = requests.get(f'https://swapi.dev/api/{table_name}')\n",
    "\n",
    "    while response:\n",
    "        response_data = response.json()\n",
    "\n",
    "        for item in response_data[\"results\"]:\n",
    "            # each item is a dict \n",
    "            # print(item)\n",
    "            save_to_table(table_name, item)\n",
    "\n",
    "        next_url = response_data[\"next\"]\n",
    "\n",
    "        if next_url is None:\n",
    "            break\n",
    "        \n",
    "        response = requests.get(next_url)\n"
   ]
  },
  {
   "cell_type": "code",
   "execution_count": null,
   "metadata": {},
   "outputs": [],
   "source": [
    "# check the count of table data matches the API count or not\n",
    "def check_table_rows(table_name):\n",
    "    with sqlite3.connect('star_wars.db') as conn:\n",
    "        c = conn.cursor()\n",
    "        rows_count = c.execute(f\"SELECT count(*) FROM {table_name}\").fetchone()[0]\n",
    "    return rows_count\n",
    "\n",
    "def check_api_count(table_name):\n",
    "    response = requests.get(f'https://swapi.dev/api/{table_name}')\n",
    "\n",
    "    api_count = response.json()[\"count\"]\n",
    "    rows_count =check_table_rows(table_name)\n",
    "\n",
    "    if api_count != rows_count:\n",
    "        print(f\"Check {table_name}, there are rows mismatches.\")\n",
    "    else:\n",
    "        print(f\"{table_name} pass the validatation.\")\n",
    "\n",
    "for table_name in tables:\n",
    "    check_api_count(table_name)\n"
   ]
  }
 ],
 "metadata": {
  "kernelspec": {
   "display_name": "Python 3",
   "language": "python",
   "name": "python3"
  },
  "language_info": {
   "codemirror_mode": {
    "name": "ipython",
    "version": 3
   },
   "file_extension": ".py",
   "mimetype": "text/x-python",
   "name": "python",
   "nbconvert_exporter": "python",
   "pygments_lexer": "ipython3",
   "version": "3.8.2"
  },
  "orig_nbformat": 4
 },
 "nbformat": 4,
 "nbformat_minor": 2
}
